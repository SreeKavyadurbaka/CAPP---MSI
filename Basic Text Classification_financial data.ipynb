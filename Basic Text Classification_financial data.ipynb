{
 "cells": [
  {
   "cell_type": "code",
   "execution_count": 1846,
   "id": "e534eaec",
   "metadata": {},
   "outputs": [],
   "source": [
    "import numpy as np\n",
    "import pandas as pd"
   ]
  },
  {
   "cell_type": "code",
   "execution_count": 1847,
   "id": "33907cdc",
   "metadata": {},
   "outputs": [],
   "source": [
    "data = pd.read_csv(\"Revised Fin data.csv\")"
   ]
  },
  {
   "cell_type": "code",
   "execution_count": 1848,
   "id": "595a3888",
   "metadata": {},
   "outputs": [
    {
     "data": {
      "text/plain": [
       "Index(['Org_ID', 'Date_published', 'Enc_ID', 'Headline', 'Synopsis',\n",
       "       'Headline + Synop', 'Full_text', 'Final Status'],\n",
       "      dtype='object')"
      ]
     },
     "execution_count": 1848,
     "metadata": {},
     "output_type": "execute_result"
    }
   ],
   "source": [
    "data.columns"
   ]
  },
  {
   "cell_type": "code",
   "execution_count": 1849,
   "id": "96deb5fb",
   "metadata": {},
   "outputs": [],
   "source": [
    "testsize = 0.2"
   ]
  },
  {
   "cell_type": "code",
   "execution_count": 1850,
   "id": "ea696f2a",
   "metadata": {},
   "outputs": [],
   "source": [
    "fd = data[[\"Headline + Synop\",\"Full_text\",\"Final Status\"]]"
   ]
  },
  {
   "cell_type": "code",
   "execution_count": 1851,
   "id": "8857092d",
   "metadata": {},
   "outputs": [
    {
     "data": {
      "text/plain": [
       "Positive     215\n",
       "Negative     184\n",
       "Positive       1\n",
       "Name: Final Status, dtype: int64"
      ]
     },
     "execution_count": 1851,
     "metadata": {},
     "output_type": "execute_result"
    }
   ],
   "source": [
    "fd['Final Status'].value_counts()"
   ]
  },
  {
   "cell_type": "code",
   "execution_count": 1852,
   "id": "9a29384e",
   "metadata": {},
   "outputs": [
    {
     "name": "stderr",
     "output_type": "stream",
     "text": [
      "C:\\Users\\sreek\\AppData\\Local\\Temp/ipykernel_17532/798343795.py:2: SettingWithCopyWarning: \n",
      "A value is trying to be set on a copy of a slice from a DataFrame.\n",
      "Try using .loc[row_indexer,col_indexer] = value instead\n",
      "\n",
      "See the caveats in the documentation: https://pandas.pydata.org/pandas-docs/stable/user_guide/indexing.html#returning-a-view-versus-a-copy\n",
      "  fd['Final Status']=fd['Final Status'].apply(lambda x: 0 if  x==\"Negative\" else 1)\n"
     ]
    },
    {
     "data": {
      "text/html": [
       "<div>\n",
       "<style scoped>\n",
       "    .dataframe tbody tr th:only-of-type {\n",
       "        vertical-align: middle;\n",
       "    }\n",
       "\n",
       "    .dataframe tbody tr th {\n",
       "        vertical-align: top;\n",
       "    }\n",
       "\n",
       "    .dataframe thead th {\n",
       "        text-align: right;\n",
       "    }\n",
       "</style>\n",
       "<table border=\"1\" class=\"dataframe\">\n",
       "  <thead>\n",
       "    <tr style=\"text-align: right;\">\n",
       "      <th></th>\n",
       "      <th>Headline + Synop</th>\n",
       "      <th>Full_text</th>\n",
       "      <th>Final Status</th>\n",
       "    </tr>\n",
       "  </thead>\n",
       "  <tbody>\n",
       "    <tr>\n",
       "      <th>0</th>\n",
       "      <td>Banks holding on to subsidy share, say payment...</td>\n",
       "      <td>ReutersPayments companies and banks are at log...</td>\n",
       "      <td>0</td>\n",
       "    </tr>\n",
       "    <tr>\n",
       "      <th>1</th>\n",
       "      <td>Digitally ready Bank of Baroda aims to click o...</td>\n",
       "      <td>AgenciesThe bank presently has 20 million acti...</td>\n",
       "      <td>1</td>\n",
       "    </tr>\n",
       "    <tr>\n",
       "      <th>2</th>\n",
       "      <td>Karnataka attracted investment commitment of R...</td>\n",
       "      <td>PTIKarnataka Chief Minister Basavaraj Bommai.K...</td>\n",
       "      <td>1</td>\n",
       "    </tr>\n",
       "    <tr>\n",
       "      <th>3</th>\n",
       "      <td>Splitting of provident fund accounts may be de...</td>\n",
       "      <td>Getty ImagesThe budget for FY22 had imposed in...</td>\n",
       "      <td>0</td>\n",
       "    </tr>\n",
       "    <tr>\n",
       "      <th>4</th>\n",
       "      <td>Irdai weighs proposal to privatise Insurance I...</td>\n",
       "      <td>AgenciesThere is a view in the insurance indus...</td>\n",
       "      <td>1</td>\n",
       "    </tr>\n",
       "  </tbody>\n",
       "</table>\n",
       "</div>"
      ],
      "text/plain": [
       "                                    Headline + Synop  \\\n",
       "0  Banks holding on to subsidy share, say payment...   \n",
       "1  Digitally ready Bank of Baroda aims to click o...   \n",
       "2  Karnataka attracted investment commitment of R...   \n",
       "3  Splitting of provident fund accounts may be de...   \n",
       "4  Irdai weighs proposal to privatise Insurance I...   \n",
       "\n",
       "                                           Full_text  Final Status  \n",
       "0  ReutersPayments companies and banks are at log...             0  \n",
       "1  AgenciesThe bank presently has 20 million acti...             1  \n",
       "2  PTIKarnataka Chief Minister Basavaraj Bommai.K...             1  \n",
       "3  Getty ImagesThe budget for FY22 had imposed in...             0  \n",
       "4  AgenciesThere is a view in the insurance indus...             1  "
      ]
     },
     "execution_count": 1852,
     "metadata": {},
     "output_type": "execute_result"
    }
   ],
   "source": [
    "# Label the final status \n",
    "fd['Final Status']=fd['Final Status'].apply(lambda x: 0 if  x==\"Negative\" else 1)\n",
    "fd.head()"
   ]
  },
  {
   "cell_type": "code",
   "execution_count": 1853,
   "id": "f1487c8e",
   "metadata": {},
   "outputs": [
    {
     "data": {
      "text/plain": [
       "1    216\n",
       "0    184\n",
       "Name: Final Status, dtype: int64"
      ]
     },
     "execution_count": 1853,
     "metadata": {},
     "output_type": "execute_result"
    }
   ],
   "source": [
    "fd['Final Status'].value_counts()"
   ]
  },
  {
   "cell_type": "code",
   "execution_count": 1854,
   "id": "dec6931c",
   "metadata": {},
   "outputs": [],
   "source": [
    "# Importing stopwords from nltk\n",
    "from nltk.corpus import stopwords\n",
    "stopwords = stopwords.words('english')"
   ]
  },
  {
   "cell_type": "code",
   "execution_count": 1855,
   "id": "acdc458e",
   "metadata": {},
   "outputs": [],
   "source": [
    "# Removing some words from the stopwords list as they contain a meaning for our problem statement \n",
    "for i in ['further','over','under','up','down','above','below']:\n",
    "  stopwords.remove(i)"
   ]
  },
  {
   "cell_type": "markdown",
   "id": "e24d3601",
   "metadata": {},
   "source": [
    "## Full text "
   ]
  },
  {
   "cell_type": "code",
   "execution_count": 1856,
   "id": "70f7d5de",
   "metadata": {},
   "outputs": [
    {
     "name": "stderr",
     "output_type": "stream",
     "text": [
      "C:\\Users\\sreek\\AppData\\Local\\Temp/ipykernel_17532/1246019720.py:2: SettingWithCopyWarning: \n",
      "A value is trying to be set on a copy of a slice from a DataFrame.\n",
      "Try using .loc[row_indexer,col_indexer] = value instead\n",
      "\n",
      "See the caveats in the documentation: https://pandas.pydata.org/pandas-docs/stable/user_guide/indexing.html#returning-a-view-versus-a-copy\n",
      "  fd['text_processed']=''\n"
     ]
    }
   ],
   "source": [
    "# An empty column for the preprocessed and marked text which is ready for embedding\n",
    "fd['text_processed']=''"
   ]
  },
  {
   "cell_type": "code",
   "execution_count": 1857,
   "id": "f569a069",
   "metadata": {},
   "outputs": [],
   "source": [
    "articles=[]\n",
    "for i in range(0,fd.shape[0]):\n",
    "    articles.append(fd.iloc[i])"
   ]
  },
  {
   "cell_type": "code",
   "execution_count": 1858,
   "id": "f74bf07f",
   "metadata": {},
   "outputs": [],
   "source": [
    "nfd = fd # Just renaming for ease of copying"
   ]
  },
  {
   "cell_type": "code",
   "execution_count": 1859,
   "id": "9e367a37",
   "metadata": {},
   "outputs": [],
   "source": [
    "# Preprocessing\n",
    "\n",
    "import re\n",
    "import string\n",
    "def preprocess(article):\n",
    "  words = [word for word in str(article['Full_text']).split() if word not in stopwords] # List Comprehension\n",
    "  text = \" \".join(words)\n",
    "  #Remove all the punctuation from the text\n",
    "  text = re.sub(r'[^\\w\\s]', '', text)\n",
    "  #Removes all numericals leaving the alphabets\n",
    "  text = ''.join([i for i in text if not i.isdigit()])\n",
    "  # Removing multiple spaces in the text and replacing them with a single space\n",
    "  text = re.sub(' +', ' ', text)\n",
    "  text = text.lower()\n",
    "  article.text_processed = text\n",
    "\n",
    "  return (\"Cleaning Done!\")"
   ]
  },
  {
   "cell_type": "code",
   "execution_count": 1860,
   "id": "1e848963",
   "metadata": {},
   "outputs": [
    {
     "name": "stderr",
     "output_type": "stream",
     "text": [
      "C:\\Users\\sreek\\anaconda3\\lib\\site-packages\\pandas\\core\\series.py:1056: SettingWithCopyWarning: \n",
      "A value is trying to be set on a copy of a slice from a DataFrame\n",
      "\n",
      "See the caveats in the documentation: https://pandas.pydata.org/pandas-docs/stable/user_guide/indexing.html#returning-a-view-versus-a-copy\n",
      "  cacher_needs_updating = self._check_is_chained_assignment_possible()\n"
     ]
    },
    {
     "name": "stdout",
     "output_type": "stream",
     "text": [
      "Done\n",
      "0.006797264999992573 mins\n"
     ]
    }
   ],
   "source": [
    "import time\n",
    "from timeit import default_timer as timer\n",
    "from joblib import Parallel, delayed\n",
    "\n",
    "start=timer()\n",
    "res = Parallel(\n",
    "    backend='threading',\n",
    "    n_jobs=-1\n",
    ")(delayed(preprocess)(x) for x in articles)\n",
    "print('Done')\n",
    "end=timer()\n",
    "print(((end-start)/60),\"mins\")"
   ]
  },
  {
   "cell_type": "code",
   "execution_count": 1861,
   "id": "a7706ebf",
   "metadata": {},
   "outputs": [
    {
     "data": {
      "text/html": [
       "<div>\n",
       "<style scoped>\n",
       "    .dataframe tbody tr th:only-of-type {\n",
       "        vertical-align: middle;\n",
       "    }\n",
       "\n",
       "    .dataframe tbody tr th {\n",
       "        vertical-align: top;\n",
       "    }\n",
       "\n",
       "    .dataframe thead th {\n",
       "        text-align: right;\n",
       "    }\n",
       "</style>\n",
       "<table border=\"1\" class=\"dataframe\">\n",
       "  <thead>\n",
       "    <tr style=\"text-align: right;\">\n",
       "      <th></th>\n",
       "      <th>Headline + Synop</th>\n",
       "      <th>Full_text</th>\n",
       "      <th>Final Status</th>\n",
       "      <th>text_processed</th>\n",
       "    </tr>\n",
       "  </thead>\n",
       "  <tbody>\n",
       "    <tr>\n",
       "      <th>0</th>\n",
       "      <td>Banks holding on to subsidy share, say payment...</td>\n",
       "      <td>ReutersPayments companies and banks are at log...</td>\n",
       "      <td>0</td>\n",
       "      <td>reuterspayments companies banks loggerheads ov...</td>\n",
       "    </tr>\n",
       "    <tr>\n",
       "      <th>1</th>\n",
       "      <td>Digitally ready Bank of Baroda aims to click o...</td>\n",
       "      <td>AgenciesThe bank presently has 20 million acti...</td>\n",
       "      <td>1</td>\n",
       "      <td>agenciesthe bank presently million active user...</td>\n",
       "    </tr>\n",
       "    <tr>\n",
       "      <th>2</th>\n",
       "      <td>Karnataka attracted investment commitment of R...</td>\n",
       "      <td>PTIKarnataka Chief Minister Basavaraj Bommai.K...</td>\n",
       "      <td>1</td>\n",
       "      <td>ptikarnataka chief minister basavaraj bommaika...</td>\n",
       "    </tr>\n",
       "    <tr>\n",
       "      <th>3</th>\n",
       "      <td>Splitting of provident fund accounts may be de...</td>\n",
       "      <td>Getty ImagesThe budget for FY22 had imposed in...</td>\n",
       "      <td>0</td>\n",
       "      <td>getty imagesthe budget fy imposed incometax in...</td>\n",
       "    </tr>\n",
       "    <tr>\n",
       "      <th>4</th>\n",
       "      <td>Irdai weighs proposal to privatise Insurance I...</td>\n",
       "      <td>AgenciesThere is a view in the insurance indus...</td>\n",
       "      <td>1</td>\n",
       "      <td>agenciesthere view insurance industry iib able...</td>\n",
       "    </tr>\n",
       "  </tbody>\n",
       "</table>\n",
       "</div>"
      ],
      "text/plain": [
       "                                    Headline + Synop  \\\n",
       "0  Banks holding on to subsidy share, say payment...   \n",
       "1  Digitally ready Bank of Baroda aims to click o...   \n",
       "2  Karnataka attracted investment commitment of R...   \n",
       "3  Splitting of provident fund accounts may be de...   \n",
       "4  Irdai weighs proposal to privatise Insurance I...   \n",
       "\n",
       "                                           Full_text  Final Status  \\\n",
       "0  ReutersPayments companies and banks are at log...             0   \n",
       "1  AgenciesThe bank presently has 20 million acti...             1   \n",
       "2  PTIKarnataka Chief Minister Basavaraj Bommai.K...             1   \n",
       "3  Getty ImagesThe budget for FY22 had imposed in...             0   \n",
       "4  AgenciesThere is a view in the insurance indus...             1   \n",
       "\n",
       "                                      text_processed  \n",
       "0  reuterspayments companies banks loggerheads ov...  \n",
       "1  agenciesthe bank presently million active user...  \n",
       "2  ptikarnataka chief minister basavaraj bommaika...  \n",
       "3  getty imagesthe budget fy imposed incometax in...  \n",
       "4  agenciesthere view insurance industry iib able...  "
      ]
     },
     "execution_count": 1861,
     "metadata": {},
     "output_type": "execute_result"
    }
   ],
   "source": [
    "nfd = pd.DataFrame(articles)\n",
    "nfd.head()"
   ]
  },
  {
   "cell_type": "code",
   "execution_count": 1906,
   "id": "818a865f",
   "metadata": {},
   "outputs": [],
   "source": [
    "from sklearn.model_selection import train_test_split\n",
    "\n",
    "X = nfd['text_processed']\n",
    "y = nfd['Final Status']\n",
    "\n",
    "X_train, X_test, y_train, y_test = train_test_split(X, y,test_size=testsize, random_state=42)"
   ]
  },
  {
   "cell_type": "code",
   "execution_count": 1907,
   "id": "cfcd91ce",
   "metadata": {},
   "outputs": [],
   "source": [
    "from sklearn.pipeline import Pipeline\n",
    "from sklearn.feature_extraction.text import TfidfVectorizer\n",
    "from sklearn.naive_bayes import MultinomialNB\n",
    "\n",
    "from sklearn import metrics\n",
    "from sklearn.tree import DecisionTreeClassifier\n",
    "from sklearn.metrics import accuracy_score\n",
    "from sklearn.metrics import classification_report\n",
    "\n",
    "# Naïve Bayes:\n",
    "text_clf_nb = Pipeline([('tfidf', TfidfVectorizer()),\n",
    "                     ('clf', MultinomialNB()),\n",
    "])\n",
    "\n",
    "\n",
    "\n",
    "#Decision Tree \n",
    "text_clf_DT = Pipeline([('tfidf', TfidfVectorizer()),\n",
    "                     ('clf', DecisionTreeClassifier(max_depth = 4)),\n",
    "])"
   ]
  },
  {
   "cell_type": "code",
   "execution_count": 1908,
   "id": "fc97bc1d",
   "metadata": {},
   "outputs": [
    {
     "data": {
      "text/html": [
       "<style>#sk-container-id-272 {color: black;background-color: white;}#sk-container-id-272 pre{padding: 0;}#sk-container-id-272 div.sk-toggleable {background-color: white;}#sk-container-id-272 label.sk-toggleable__label {cursor: pointer;display: block;width: 100%;margin-bottom: 0;padding: 0.3em;box-sizing: border-box;text-align: center;}#sk-container-id-272 label.sk-toggleable__label-arrow:before {content: \"▸\";float: left;margin-right: 0.25em;color: #696969;}#sk-container-id-272 label.sk-toggleable__label-arrow:hover:before {color: black;}#sk-container-id-272 div.sk-estimator:hover label.sk-toggleable__label-arrow:before {color: black;}#sk-container-id-272 div.sk-toggleable__content {max-height: 0;max-width: 0;overflow: hidden;text-align: left;background-color: #f0f8ff;}#sk-container-id-272 div.sk-toggleable__content pre {margin: 0.2em;color: black;border-radius: 0.25em;background-color: #f0f8ff;}#sk-container-id-272 input.sk-toggleable__control:checked~div.sk-toggleable__content {max-height: 200px;max-width: 100%;overflow: auto;}#sk-container-id-272 input.sk-toggleable__control:checked~label.sk-toggleable__label-arrow:before {content: \"▾\";}#sk-container-id-272 div.sk-estimator input.sk-toggleable__control:checked~label.sk-toggleable__label {background-color: #d4ebff;}#sk-container-id-272 div.sk-label input.sk-toggleable__control:checked~label.sk-toggleable__label {background-color: #d4ebff;}#sk-container-id-272 input.sk-hidden--visually {border: 0;clip: rect(1px 1px 1px 1px);clip: rect(1px, 1px, 1px, 1px);height: 1px;margin: -1px;overflow: hidden;padding: 0;position: absolute;width: 1px;}#sk-container-id-272 div.sk-estimator {font-family: monospace;background-color: #f0f8ff;border: 1px dotted black;border-radius: 0.25em;box-sizing: border-box;margin-bottom: 0.5em;}#sk-container-id-272 div.sk-estimator:hover {background-color: #d4ebff;}#sk-container-id-272 div.sk-parallel-item::after {content: \"\";width: 100%;border-bottom: 1px solid gray;flex-grow: 1;}#sk-container-id-272 div.sk-label:hover label.sk-toggleable__label {background-color: #d4ebff;}#sk-container-id-272 div.sk-serial::before {content: \"\";position: absolute;border-left: 1px solid gray;box-sizing: border-box;top: 0;bottom: 0;left: 50%;z-index: 0;}#sk-container-id-272 div.sk-serial {display: flex;flex-direction: column;align-items: center;background-color: white;padding-right: 0.2em;padding-left: 0.2em;position: relative;}#sk-container-id-272 div.sk-item {position: relative;z-index: 1;}#sk-container-id-272 div.sk-parallel {display: flex;align-items: stretch;justify-content: center;background-color: white;position: relative;}#sk-container-id-272 div.sk-item::before, #sk-container-id-272 div.sk-parallel-item::before {content: \"\";position: absolute;border-left: 1px solid gray;box-sizing: border-box;top: 0;bottom: 0;left: 50%;z-index: -1;}#sk-container-id-272 div.sk-parallel-item {display: flex;flex-direction: column;z-index: 1;position: relative;background-color: white;}#sk-container-id-272 div.sk-parallel-item:first-child::after {align-self: flex-end;width: 50%;}#sk-container-id-272 div.sk-parallel-item:last-child::after {align-self: flex-start;width: 50%;}#sk-container-id-272 div.sk-parallel-item:only-child::after {width: 0;}#sk-container-id-272 div.sk-dashed-wrapped {border: 1px dashed gray;margin: 0 0.4em 0.5em 0.4em;box-sizing: border-box;padding-bottom: 0.4em;background-color: white;}#sk-container-id-272 div.sk-label label {font-family: monospace;font-weight: bold;display: inline-block;line-height: 1.2em;}#sk-container-id-272 div.sk-label-container {text-align: center;}#sk-container-id-272 div.sk-container {/* jupyter's `normalize.less` sets `[hidden] { display: none; }` but bootstrap.min.css set `[hidden] { display: none !important; }` so we also need the `!important` here to be able to override the default hidden behavior on the sphinx rendered scikit-learn.org. See: https://github.com/scikit-learn/scikit-learn/issues/21755 */display: inline-block !important;position: relative;}#sk-container-id-272 div.sk-text-repr-fallback {display: none;}</style><div id=\"sk-container-id-272\" class=\"sk-top-container\"><div class=\"sk-text-repr-fallback\"><pre>Pipeline(steps=[(&#x27;tfidf&#x27;, TfidfVectorizer()), (&#x27;clf&#x27;, MultinomialNB())])</pre><b>In a Jupyter environment, please rerun this cell to show the HTML representation or trust the notebook. <br />On GitHub, the HTML representation is unable to render, please try loading this page with nbviewer.org.</b></div><div class=\"sk-container\" hidden><div class=\"sk-item sk-dashed-wrapped\"><div class=\"sk-label-container\"><div class=\"sk-label sk-toggleable\"><input class=\"sk-toggleable__control sk-hidden--visually\" id=\"sk-estimator-id-916\" type=\"checkbox\" ><label for=\"sk-estimator-id-916\" class=\"sk-toggleable__label sk-toggleable__label-arrow\">Pipeline</label><div class=\"sk-toggleable__content\"><pre>Pipeline(steps=[(&#x27;tfidf&#x27;, TfidfVectorizer()), (&#x27;clf&#x27;, MultinomialNB())])</pre></div></div></div><div class=\"sk-serial\"><div class=\"sk-item\"><div class=\"sk-estimator sk-toggleable\"><input class=\"sk-toggleable__control sk-hidden--visually\" id=\"sk-estimator-id-917\" type=\"checkbox\" ><label for=\"sk-estimator-id-917\" class=\"sk-toggleable__label sk-toggleable__label-arrow\">TfidfVectorizer</label><div class=\"sk-toggleable__content\"><pre>TfidfVectorizer()</pre></div></div></div><div class=\"sk-item\"><div class=\"sk-estimator sk-toggleable\"><input class=\"sk-toggleable__control sk-hidden--visually\" id=\"sk-estimator-id-918\" type=\"checkbox\" ><label for=\"sk-estimator-id-918\" class=\"sk-toggleable__label sk-toggleable__label-arrow\">MultinomialNB</label><div class=\"sk-toggleable__content\"><pre>MultinomialNB()</pre></div></div></div></div></div></div></div>"
      ],
      "text/plain": [
       "Pipeline(steps=[('tfidf', TfidfVectorizer()), ('clf', MultinomialNB())])"
      ]
     },
     "execution_count": 1908,
     "metadata": {},
     "output_type": "execute_result"
    }
   ],
   "source": [
    "text_clf_nb.fit(X_train, y_train)"
   ]
  },
  {
   "cell_type": "code",
   "execution_count": 1909,
   "id": "e87f9c9c",
   "metadata": {},
   "outputs": [],
   "source": [
    "# Form a prediction set\n",
    "predictions = text_clf_nb.predict(X_test)"
   ]
  },
  {
   "cell_type": "code",
   "execution_count": 1910,
   "id": "8d5d4268",
   "metadata": {},
   "outputs": [
    {
     "name": "stdout",
     "output_type": "stream",
     "text": [
      "Naive Bayes:\n",
      "\n",
      "\n",
      "              precision    recall  f1-score   support\n",
      "\n",
      "           0       0.70      0.35      0.47        40\n",
      "           1       0.57      0.85      0.68        40\n",
      "\n",
      "    accuracy                           0.60        80\n",
      "   macro avg       0.63      0.60      0.57        80\n",
      "weighted avg       0.63      0.60      0.57        80\n",
      "\n"
     ]
    }
   ],
   "source": [
    "# Print a classification report\n",
    "print(\"Naive Bayes:\")\n",
    "print(\"\\n\")\n",
    "print(metrics.classification_report(y_test,predictions))"
   ]
  },
  {
   "cell_type": "code",
   "execution_count": 1911,
   "id": "a3860127",
   "metadata": {},
   "outputs": [
    {
     "data": {
      "text/html": [
       "<style>#sk-container-id-273 {color: black;background-color: white;}#sk-container-id-273 pre{padding: 0;}#sk-container-id-273 div.sk-toggleable {background-color: white;}#sk-container-id-273 label.sk-toggleable__label {cursor: pointer;display: block;width: 100%;margin-bottom: 0;padding: 0.3em;box-sizing: border-box;text-align: center;}#sk-container-id-273 label.sk-toggleable__label-arrow:before {content: \"▸\";float: left;margin-right: 0.25em;color: #696969;}#sk-container-id-273 label.sk-toggleable__label-arrow:hover:before {color: black;}#sk-container-id-273 div.sk-estimator:hover label.sk-toggleable__label-arrow:before {color: black;}#sk-container-id-273 div.sk-toggleable__content {max-height: 0;max-width: 0;overflow: hidden;text-align: left;background-color: #f0f8ff;}#sk-container-id-273 div.sk-toggleable__content pre {margin: 0.2em;color: black;border-radius: 0.25em;background-color: #f0f8ff;}#sk-container-id-273 input.sk-toggleable__control:checked~div.sk-toggleable__content {max-height: 200px;max-width: 100%;overflow: auto;}#sk-container-id-273 input.sk-toggleable__control:checked~label.sk-toggleable__label-arrow:before {content: \"▾\";}#sk-container-id-273 div.sk-estimator input.sk-toggleable__control:checked~label.sk-toggleable__label {background-color: #d4ebff;}#sk-container-id-273 div.sk-label input.sk-toggleable__control:checked~label.sk-toggleable__label {background-color: #d4ebff;}#sk-container-id-273 input.sk-hidden--visually {border: 0;clip: rect(1px 1px 1px 1px);clip: rect(1px, 1px, 1px, 1px);height: 1px;margin: -1px;overflow: hidden;padding: 0;position: absolute;width: 1px;}#sk-container-id-273 div.sk-estimator {font-family: monospace;background-color: #f0f8ff;border: 1px dotted black;border-radius: 0.25em;box-sizing: border-box;margin-bottom: 0.5em;}#sk-container-id-273 div.sk-estimator:hover {background-color: #d4ebff;}#sk-container-id-273 div.sk-parallel-item::after {content: \"\";width: 100%;border-bottom: 1px solid gray;flex-grow: 1;}#sk-container-id-273 div.sk-label:hover label.sk-toggleable__label {background-color: #d4ebff;}#sk-container-id-273 div.sk-serial::before {content: \"\";position: absolute;border-left: 1px solid gray;box-sizing: border-box;top: 0;bottom: 0;left: 50%;z-index: 0;}#sk-container-id-273 div.sk-serial {display: flex;flex-direction: column;align-items: center;background-color: white;padding-right: 0.2em;padding-left: 0.2em;position: relative;}#sk-container-id-273 div.sk-item {position: relative;z-index: 1;}#sk-container-id-273 div.sk-parallel {display: flex;align-items: stretch;justify-content: center;background-color: white;position: relative;}#sk-container-id-273 div.sk-item::before, #sk-container-id-273 div.sk-parallel-item::before {content: \"\";position: absolute;border-left: 1px solid gray;box-sizing: border-box;top: 0;bottom: 0;left: 50%;z-index: -1;}#sk-container-id-273 div.sk-parallel-item {display: flex;flex-direction: column;z-index: 1;position: relative;background-color: white;}#sk-container-id-273 div.sk-parallel-item:first-child::after {align-self: flex-end;width: 50%;}#sk-container-id-273 div.sk-parallel-item:last-child::after {align-self: flex-start;width: 50%;}#sk-container-id-273 div.sk-parallel-item:only-child::after {width: 0;}#sk-container-id-273 div.sk-dashed-wrapped {border: 1px dashed gray;margin: 0 0.4em 0.5em 0.4em;box-sizing: border-box;padding-bottom: 0.4em;background-color: white;}#sk-container-id-273 div.sk-label label {font-family: monospace;font-weight: bold;display: inline-block;line-height: 1.2em;}#sk-container-id-273 div.sk-label-container {text-align: center;}#sk-container-id-273 div.sk-container {/* jupyter's `normalize.less` sets `[hidden] { display: none; }` but bootstrap.min.css set `[hidden] { display: none !important; }` so we also need the `!important` here to be able to override the default hidden behavior on the sphinx rendered scikit-learn.org. See: https://github.com/scikit-learn/scikit-learn/issues/21755 */display: inline-block !important;position: relative;}#sk-container-id-273 div.sk-text-repr-fallback {display: none;}</style><div id=\"sk-container-id-273\" class=\"sk-top-container\"><div class=\"sk-text-repr-fallback\"><pre>Pipeline(steps=[(&#x27;tfidf&#x27;, TfidfVectorizer()),\n",
       "                (&#x27;clf&#x27;, DecisionTreeClassifier(max_depth=4))])</pre><b>In a Jupyter environment, please rerun this cell to show the HTML representation or trust the notebook. <br />On GitHub, the HTML representation is unable to render, please try loading this page with nbviewer.org.</b></div><div class=\"sk-container\" hidden><div class=\"sk-item sk-dashed-wrapped\"><div class=\"sk-label-container\"><div class=\"sk-label sk-toggleable\"><input class=\"sk-toggleable__control sk-hidden--visually\" id=\"sk-estimator-id-919\" type=\"checkbox\" ><label for=\"sk-estimator-id-919\" class=\"sk-toggleable__label sk-toggleable__label-arrow\">Pipeline</label><div class=\"sk-toggleable__content\"><pre>Pipeline(steps=[(&#x27;tfidf&#x27;, TfidfVectorizer()),\n",
       "                (&#x27;clf&#x27;, DecisionTreeClassifier(max_depth=4))])</pre></div></div></div><div class=\"sk-serial\"><div class=\"sk-item\"><div class=\"sk-estimator sk-toggleable\"><input class=\"sk-toggleable__control sk-hidden--visually\" id=\"sk-estimator-id-920\" type=\"checkbox\" ><label for=\"sk-estimator-id-920\" class=\"sk-toggleable__label sk-toggleable__label-arrow\">TfidfVectorizer</label><div class=\"sk-toggleable__content\"><pre>TfidfVectorizer()</pre></div></div></div><div class=\"sk-item\"><div class=\"sk-estimator sk-toggleable\"><input class=\"sk-toggleable__control sk-hidden--visually\" id=\"sk-estimator-id-921\" type=\"checkbox\" ><label for=\"sk-estimator-id-921\" class=\"sk-toggleable__label sk-toggleable__label-arrow\">DecisionTreeClassifier</label><div class=\"sk-toggleable__content\"><pre>DecisionTreeClassifier(max_depth=4)</pre></div></div></div></div></div></div></div>"
      ],
      "text/plain": [
       "Pipeline(steps=[('tfidf', TfidfVectorizer()),\n",
       "                ('clf', DecisionTreeClassifier(max_depth=4))])"
      ]
     },
     "execution_count": 1911,
     "metadata": {},
     "output_type": "execute_result"
    }
   ],
   "source": [
    "text_clf_DT.fit(X_train, y_train)"
   ]
  },
  {
   "cell_type": "code",
   "execution_count": 1912,
   "id": "435b7d2e",
   "metadata": {},
   "outputs": [
    {
     "data": {
      "text/plain": [
       "0.86875"
      ]
     },
     "execution_count": 1912,
     "metadata": {},
     "output_type": "execute_result"
    }
   ],
   "source": [
    "text_clf_DT.score(X_train, y_train)"
   ]
  },
  {
   "cell_type": "code",
   "execution_count": 1913,
   "id": "8e77031b",
   "metadata": {},
   "outputs": [],
   "source": [
    "# Form a prediction set\n",
    "predictions = text_clf_DT.predict(X_test)"
   ]
  },
  {
   "cell_type": "code",
   "execution_count": 1914,
   "id": "18414e3c",
   "metadata": {},
   "outputs": [
    {
     "name": "stdout",
     "output_type": "stream",
     "text": [
      "Decision Tree:\n",
      "\n",
      "\n",
      "              precision    recall  f1-score   support\n",
      "\n",
      "           0       0.71      0.50      0.59        40\n",
      "           1       0.62      0.80      0.70        40\n",
      "\n",
      "    accuracy                           0.65        80\n",
      "   macro avg       0.66      0.65      0.64        80\n",
      "weighted avg       0.66      0.65      0.64        80\n",
      "\n"
     ]
    }
   ],
   "source": [
    "# Print a classification report\n",
    "print(\"Decision Tree:\")\n",
    "print(\"\\n\")\n",
    "print(metrics.classification_report(y_test,predictions))"
   ]
  },
  {
   "cell_type": "code",
   "execution_count": 1915,
   "id": "cb07eb65",
   "metadata": {},
   "outputs": [],
   "source": [
    "# importing random forest classifier from assemble module\n",
    "from sklearn.ensemble import RandomForestClassifier"
   ]
  },
  {
   "cell_type": "code",
   "execution_count": 1916,
   "id": "428ff8fd",
   "metadata": {},
   "outputs": [],
   "source": [
    "text_clf_rf = Pipeline([('tfidf', TfidfVectorizer()),\n",
    "                     ('clf', RandomForestClassifier(max_depth = 5)),\n",
    "])\n"
   ]
  },
  {
   "cell_type": "code",
   "execution_count": 1917,
   "id": "12f328ff",
   "metadata": {},
   "outputs": [
    {
     "data": {
      "text/html": [
       "<style>#sk-container-id-274 {color: black;background-color: white;}#sk-container-id-274 pre{padding: 0;}#sk-container-id-274 div.sk-toggleable {background-color: white;}#sk-container-id-274 label.sk-toggleable__label {cursor: pointer;display: block;width: 100%;margin-bottom: 0;padding: 0.3em;box-sizing: border-box;text-align: center;}#sk-container-id-274 label.sk-toggleable__label-arrow:before {content: \"▸\";float: left;margin-right: 0.25em;color: #696969;}#sk-container-id-274 label.sk-toggleable__label-arrow:hover:before {color: black;}#sk-container-id-274 div.sk-estimator:hover label.sk-toggleable__label-arrow:before {color: black;}#sk-container-id-274 div.sk-toggleable__content {max-height: 0;max-width: 0;overflow: hidden;text-align: left;background-color: #f0f8ff;}#sk-container-id-274 div.sk-toggleable__content pre {margin: 0.2em;color: black;border-radius: 0.25em;background-color: #f0f8ff;}#sk-container-id-274 input.sk-toggleable__control:checked~div.sk-toggleable__content {max-height: 200px;max-width: 100%;overflow: auto;}#sk-container-id-274 input.sk-toggleable__control:checked~label.sk-toggleable__label-arrow:before {content: \"▾\";}#sk-container-id-274 div.sk-estimator input.sk-toggleable__control:checked~label.sk-toggleable__label {background-color: #d4ebff;}#sk-container-id-274 div.sk-label input.sk-toggleable__control:checked~label.sk-toggleable__label {background-color: #d4ebff;}#sk-container-id-274 input.sk-hidden--visually {border: 0;clip: rect(1px 1px 1px 1px);clip: rect(1px, 1px, 1px, 1px);height: 1px;margin: -1px;overflow: hidden;padding: 0;position: absolute;width: 1px;}#sk-container-id-274 div.sk-estimator {font-family: monospace;background-color: #f0f8ff;border: 1px dotted black;border-radius: 0.25em;box-sizing: border-box;margin-bottom: 0.5em;}#sk-container-id-274 div.sk-estimator:hover {background-color: #d4ebff;}#sk-container-id-274 div.sk-parallel-item::after {content: \"\";width: 100%;border-bottom: 1px solid gray;flex-grow: 1;}#sk-container-id-274 div.sk-label:hover label.sk-toggleable__label {background-color: #d4ebff;}#sk-container-id-274 div.sk-serial::before {content: \"\";position: absolute;border-left: 1px solid gray;box-sizing: border-box;top: 0;bottom: 0;left: 50%;z-index: 0;}#sk-container-id-274 div.sk-serial {display: flex;flex-direction: column;align-items: center;background-color: white;padding-right: 0.2em;padding-left: 0.2em;position: relative;}#sk-container-id-274 div.sk-item {position: relative;z-index: 1;}#sk-container-id-274 div.sk-parallel {display: flex;align-items: stretch;justify-content: center;background-color: white;position: relative;}#sk-container-id-274 div.sk-item::before, #sk-container-id-274 div.sk-parallel-item::before {content: \"\";position: absolute;border-left: 1px solid gray;box-sizing: border-box;top: 0;bottom: 0;left: 50%;z-index: -1;}#sk-container-id-274 div.sk-parallel-item {display: flex;flex-direction: column;z-index: 1;position: relative;background-color: white;}#sk-container-id-274 div.sk-parallel-item:first-child::after {align-self: flex-end;width: 50%;}#sk-container-id-274 div.sk-parallel-item:last-child::after {align-self: flex-start;width: 50%;}#sk-container-id-274 div.sk-parallel-item:only-child::after {width: 0;}#sk-container-id-274 div.sk-dashed-wrapped {border: 1px dashed gray;margin: 0 0.4em 0.5em 0.4em;box-sizing: border-box;padding-bottom: 0.4em;background-color: white;}#sk-container-id-274 div.sk-label label {font-family: monospace;font-weight: bold;display: inline-block;line-height: 1.2em;}#sk-container-id-274 div.sk-label-container {text-align: center;}#sk-container-id-274 div.sk-container {/* jupyter's `normalize.less` sets `[hidden] { display: none; }` but bootstrap.min.css set `[hidden] { display: none !important; }` so we also need the `!important` here to be able to override the default hidden behavior on the sphinx rendered scikit-learn.org. See: https://github.com/scikit-learn/scikit-learn/issues/21755 */display: inline-block !important;position: relative;}#sk-container-id-274 div.sk-text-repr-fallback {display: none;}</style><div id=\"sk-container-id-274\" class=\"sk-top-container\"><div class=\"sk-text-repr-fallback\"><pre>Pipeline(steps=[(&#x27;tfidf&#x27;, TfidfVectorizer()),\n",
       "                (&#x27;clf&#x27;, RandomForestClassifier(max_depth=5))])</pre><b>In a Jupyter environment, please rerun this cell to show the HTML representation or trust the notebook. <br />On GitHub, the HTML representation is unable to render, please try loading this page with nbviewer.org.</b></div><div class=\"sk-container\" hidden><div class=\"sk-item sk-dashed-wrapped\"><div class=\"sk-label-container\"><div class=\"sk-label sk-toggleable\"><input class=\"sk-toggleable__control sk-hidden--visually\" id=\"sk-estimator-id-922\" type=\"checkbox\" ><label for=\"sk-estimator-id-922\" class=\"sk-toggleable__label sk-toggleable__label-arrow\">Pipeline</label><div class=\"sk-toggleable__content\"><pre>Pipeline(steps=[(&#x27;tfidf&#x27;, TfidfVectorizer()),\n",
       "                (&#x27;clf&#x27;, RandomForestClassifier(max_depth=5))])</pre></div></div></div><div class=\"sk-serial\"><div class=\"sk-item\"><div class=\"sk-estimator sk-toggleable\"><input class=\"sk-toggleable__control sk-hidden--visually\" id=\"sk-estimator-id-923\" type=\"checkbox\" ><label for=\"sk-estimator-id-923\" class=\"sk-toggleable__label sk-toggleable__label-arrow\">TfidfVectorizer</label><div class=\"sk-toggleable__content\"><pre>TfidfVectorizer()</pre></div></div></div><div class=\"sk-item\"><div class=\"sk-estimator sk-toggleable\"><input class=\"sk-toggleable__control sk-hidden--visually\" id=\"sk-estimator-id-924\" type=\"checkbox\" ><label for=\"sk-estimator-id-924\" class=\"sk-toggleable__label sk-toggleable__label-arrow\">RandomForestClassifier</label><div class=\"sk-toggleable__content\"><pre>RandomForestClassifier(max_depth=5)</pre></div></div></div></div></div></div></div>"
      ],
      "text/plain": [
       "Pipeline(steps=[('tfidf', TfidfVectorizer()),\n",
       "                ('clf', RandomForestClassifier(max_depth=5))])"
      ]
     },
     "execution_count": 1917,
     "metadata": {},
     "output_type": "execute_result"
    }
   ],
   "source": [
    "text_clf_rf.fit(X_train, y_train)"
   ]
  },
  {
   "cell_type": "code",
   "execution_count": 1918,
   "id": "9d962be7",
   "metadata": {},
   "outputs": [
    {
     "data": {
      "text/plain": [
       "0.875"
      ]
     },
     "execution_count": 1918,
     "metadata": {},
     "output_type": "execute_result"
    }
   ],
   "source": [
    "text_clf_rf.score(X_train, y_train)"
   ]
  },
  {
   "cell_type": "code",
   "execution_count": 1919,
   "id": "e4e2a0c6",
   "metadata": {},
   "outputs": [
    {
     "data": {
      "text/plain": [
       "0.625"
      ]
     },
     "execution_count": 1919,
     "metadata": {},
     "output_type": "execute_result"
    }
   ],
   "source": [
    "text_clf_rf.score(X_test, y_test)"
   ]
  },
  {
   "cell_type": "code",
   "execution_count": 1920,
   "id": "9a08ba33",
   "metadata": {},
   "outputs": [],
   "source": [
    "from sklearn.ensemble import BaggingClassifier"
   ]
  },
  {
   "cell_type": "code",
   "execution_count": 1921,
   "id": "643d7611",
   "metadata": {},
   "outputs": [],
   "source": [
    "text_clf_b = Pipeline([('tfidf', TfidfVectorizer()),\n",
    "                     ('clf', BaggingClassifier(DecisionTreeClassifier(max_depth = 5))),\n",
    "])"
   ]
  },
  {
   "cell_type": "code",
   "execution_count": 1922,
   "id": "5789c49a",
   "metadata": {},
   "outputs": [
    {
     "data": {
      "text/html": [
       "<style>#sk-container-id-275 {color: black;background-color: white;}#sk-container-id-275 pre{padding: 0;}#sk-container-id-275 div.sk-toggleable {background-color: white;}#sk-container-id-275 label.sk-toggleable__label {cursor: pointer;display: block;width: 100%;margin-bottom: 0;padding: 0.3em;box-sizing: border-box;text-align: center;}#sk-container-id-275 label.sk-toggleable__label-arrow:before {content: \"▸\";float: left;margin-right: 0.25em;color: #696969;}#sk-container-id-275 label.sk-toggleable__label-arrow:hover:before {color: black;}#sk-container-id-275 div.sk-estimator:hover label.sk-toggleable__label-arrow:before {color: black;}#sk-container-id-275 div.sk-toggleable__content {max-height: 0;max-width: 0;overflow: hidden;text-align: left;background-color: #f0f8ff;}#sk-container-id-275 div.sk-toggleable__content pre {margin: 0.2em;color: black;border-radius: 0.25em;background-color: #f0f8ff;}#sk-container-id-275 input.sk-toggleable__control:checked~div.sk-toggleable__content {max-height: 200px;max-width: 100%;overflow: auto;}#sk-container-id-275 input.sk-toggleable__control:checked~label.sk-toggleable__label-arrow:before {content: \"▾\";}#sk-container-id-275 div.sk-estimator input.sk-toggleable__control:checked~label.sk-toggleable__label {background-color: #d4ebff;}#sk-container-id-275 div.sk-label input.sk-toggleable__control:checked~label.sk-toggleable__label {background-color: #d4ebff;}#sk-container-id-275 input.sk-hidden--visually {border: 0;clip: rect(1px 1px 1px 1px);clip: rect(1px, 1px, 1px, 1px);height: 1px;margin: -1px;overflow: hidden;padding: 0;position: absolute;width: 1px;}#sk-container-id-275 div.sk-estimator {font-family: monospace;background-color: #f0f8ff;border: 1px dotted black;border-radius: 0.25em;box-sizing: border-box;margin-bottom: 0.5em;}#sk-container-id-275 div.sk-estimator:hover {background-color: #d4ebff;}#sk-container-id-275 div.sk-parallel-item::after {content: \"\";width: 100%;border-bottom: 1px solid gray;flex-grow: 1;}#sk-container-id-275 div.sk-label:hover label.sk-toggleable__label {background-color: #d4ebff;}#sk-container-id-275 div.sk-serial::before {content: \"\";position: absolute;border-left: 1px solid gray;box-sizing: border-box;top: 0;bottom: 0;left: 50%;z-index: 0;}#sk-container-id-275 div.sk-serial {display: flex;flex-direction: column;align-items: center;background-color: white;padding-right: 0.2em;padding-left: 0.2em;position: relative;}#sk-container-id-275 div.sk-item {position: relative;z-index: 1;}#sk-container-id-275 div.sk-parallel {display: flex;align-items: stretch;justify-content: center;background-color: white;position: relative;}#sk-container-id-275 div.sk-item::before, #sk-container-id-275 div.sk-parallel-item::before {content: \"\";position: absolute;border-left: 1px solid gray;box-sizing: border-box;top: 0;bottom: 0;left: 50%;z-index: -1;}#sk-container-id-275 div.sk-parallel-item {display: flex;flex-direction: column;z-index: 1;position: relative;background-color: white;}#sk-container-id-275 div.sk-parallel-item:first-child::after {align-self: flex-end;width: 50%;}#sk-container-id-275 div.sk-parallel-item:last-child::after {align-self: flex-start;width: 50%;}#sk-container-id-275 div.sk-parallel-item:only-child::after {width: 0;}#sk-container-id-275 div.sk-dashed-wrapped {border: 1px dashed gray;margin: 0 0.4em 0.5em 0.4em;box-sizing: border-box;padding-bottom: 0.4em;background-color: white;}#sk-container-id-275 div.sk-label label {font-family: monospace;font-weight: bold;display: inline-block;line-height: 1.2em;}#sk-container-id-275 div.sk-label-container {text-align: center;}#sk-container-id-275 div.sk-container {/* jupyter's `normalize.less` sets `[hidden] { display: none; }` but bootstrap.min.css set `[hidden] { display: none !important; }` so we also need the `!important` here to be able to override the default hidden behavior on the sphinx rendered scikit-learn.org. See: https://github.com/scikit-learn/scikit-learn/issues/21755 */display: inline-block !important;position: relative;}#sk-container-id-275 div.sk-text-repr-fallback {display: none;}</style><div id=\"sk-container-id-275\" class=\"sk-top-container\"><div class=\"sk-text-repr-fallback\"><pre>Pipeline(steps=[(&#x27;tfidf&#x27;, TfidfVectorizer()),\n",
       "                (&#x27;clf&#x27;,\n",
       "                 BaggingClassifier(base_estimator=DecisionTreeClassifier(max_depth=5)))])</pre><b>In a Jupyter environment, please rerun this cell to show the HTML representation or trust the notebook. <br />On GitHub, the HTML representation is unable to render, please try loading this page with nbviewer.org.</b></div><div class=\"sk-container\" hidden><div class=\"sk-item sk-dashed-wrapped\"><div class=\"sk-label-container\"><div class=\"sk-label sk-toggleable\"><input class=\"sk-toggleable__control sk-hidden--visually\" id=\"sk-estimator-id-925\" type=\"checkbox\" ><label for=\"sk-estimator-id-925\" class=\"sk-toggleable__label sk-toggleable__label-arrow\">Pipeline</label><div class=\"sk-toggleable__content\"><pre>Pipeline(steps=[(&#x27;tfidf&#x27;, TfidfVectorizer()),\n",
       "                (&#x27;clf&#x27;,\n",
       "                 BaggingClassifier(base_estimator=DecisionTreeClassifier(max_depth=5)))])</pre></div></div></div><div class=\"sk-serial\"><div class=\"sk-item\"><div class=\"sk-estimator sk-toggleable\"><input class=\"sk-toggleable__control sk-hidden--visually\" id=\"sk-estimator-id-926\" type=\"checkbox\" ><label for=\"sk-estimator-id-926\" class=\"sk-toggleable__label sk-toggleable__label-arrow\">TfidfVectorizer</label><div class=\"sk-toggleable__content\"><pre>TfidfVectorizer()</pre></div></div></div><div class=\"sk-item sk-dashed-wrapped\"><div class=\"sk-label-container\"><div class=\"sk-label sk-toggleable\"><input class=\"sk-toggleable__control sk-hidden--visually\" id=\"sk-estimator-id-927\" type=\"checkbox\" ><label for=\"sk-estimator-id-927\" class=\"sk-toggleable__label sk-toggleable__label-arrow\">clf: BaggingClassifier</label><div class=\"sk-toggleable__content\"><pre>BaggingClassifier(base_estimator=DecisionTreeClassifier(max_depth=5))</pre></div></div></div><div class=\"sk-parallel\"><div class=\"sk-parallel-item\"><div class=\"sk-item\"><div class=\"sk-label-container\"><div class=\"sk-label sk-toggleable\"><input class=\"sk-toggleable__control sk-hidden--visually\" id=\"sk-estimator-id-928\" type=\"checkbox\" ><label for=\"sk-estimator-id-928\" class=\"sk-toggleable__label sk-toggleable__label-arrow\">base_estimator: DecisionTreeClassifier</label><div class=\"sk-toggleable__content\"><pre>DecisionTreeClassifier(max_depth=5)</pre></div></div></div><div class=\"sk-serial\"><div class=\"sk-item\"><div class=\"sk-estimator sk-toggleable\"><input class=\"sk-toggleable__control sk-hidden--visually\" id=\"sk-estimator-id-929\" type=\"checkbox\" ><label for=\"sk-estimator-id-929\" class=\"sk-toggleable__label sk-toggleable__label-arrow\">DecisionTreeClassifier</label><div class=\"sk-toggleable__content\"><pre>DecisionTreeClassifier(max_depth=5)</pre></div></div></div></div></div></div></div></div></div></div></div></div>"
      ],
      "text/plain": [
       "Pipeline(steps=[('tfidf', TfidfVectorizer()),\n",
       "                ('clf',\n",
       "                 BaggingClassifier(base_estimator=DecisionTreeClassifier(max_depth=5)))])"
      ]
     },
     "execution_count": 1922,
     "metadata": {},
     "output_type": "execute_result"
    }
   ],
   "source": [
    "text_clf_b.fit(X_train, y_train)"
   ]
  },
  {
   "cell_type": "code",
   "execution_count": 1923,
   "id": "cb29ae3a",
   "metadata": {},
   "outputs": [
    {
     "data": {
      "text/plain": [
       "0.94375"
      ]
     },
     "execution_count": 1923,
     "metadata": {},
     "output_type": "execute_result"
    }
   ],
   "source": [
    "text_clf_b.score(X_train, y_train)"
   ]
  },
  {
   "cell_type": "code",
   "execution_count": 1924,
   "id": "e6660fee",
   "metadata": {},
   "outputs": [
    {
     "data": {
      "text/plain": [
       "0.6375"
      ]
     },
     "execution_count": 1924,
     "metadata": {},
     "output_type": "execute_result"
    }
   ],
   "source": [
    "text_clf_b.score(X_test, y_test)"
   ]
  },
  {
   "cell_type": "code",
   "execution_count": 1926,
   "id": "66dc55c7",
   "metadata": {},
   "outputs": [],
   "source": [
    "text_clf_b = Pipeline([('tfidf', TfidfVectorizer()),\n",
    "                     ('clf', BaggingClassifier(DecisionTreeClassifier(max_depth = 4))),\n",
    "])"
   ]
  },
  {
   "cell_type": "code",
   "execution_count": 1928,
   "id": "c57dbc08",
   "metadata": {},
   "outputs": [
    {
     "data": {
      "text/html": [
       "<style>#sk-container-id-276 {color: black;background-color: white;}#sk-container-id-276 pre{padding: 0;}#sk-container-id-276 div.sk-toggleable {background-color: white;}#sk-container-id-276 label.sk-toggleable__label {cursor: pointer;display: block;width: 100%;margin-bottom: 0;padding: 0.3em;box-sizing: border-box;text-align: center;}#sk-container-id-276 label.sk-toggleable__label-arrow:before {content: \"▸\";float: left;margin-right: 0.25em;color: #696969;}#sk-container-id-276 label.sk-toggleable__label-arrow:hover:before {color: black;}#sk-container-id-276 div.sk-estimator:hover label.sk-toggleable__label-arrow:before {color: black;}#sk-container-id-276 div.sk-toggleable__content {max-height: 0;max-width: 0;overflow: hidden;text-align: left;background-color: #f0f8ff;}#sk-container-id-276 div.sk-toggleable__content pre {margin: 0.2em;color: black;border-radius: 0.25em;background-color: #f0f8ff;}#sk-container-id-276 input.sk-toggleable__control:checked~div.sk-toggleable__content {max-height: 200px;max-width: 100%;overflow: auto;}#sk-container-id-276 input.sk-toggleable__control:checked~label.sk-toggleable__label-arrow:before {content: \"▾\";}#sk-container-id-276 div.sk-estimator input.sk-toggleable__control:checked~label.sk-toggleable__label {background-color: #d4ebff;}#sk-container-id-276 div.sk-label input.sk-toggleable__control:checked~label.sk-toggleable__label {background-color: #d4ebff;}#sk-container-id-276 input.sk-hidden--visually {border: 0;clip: rect(1px 1px 1px 1px);clip: rect(1px, 1px, 1px, 1px);height: 1px;margin: -1px;overflow: hidden;padding: 0;position: absolute;width: 1px;}#sk-container-id-276 div.sk-estimator {font-family: monospace;background-color: #f0f8ff;border: 1px dotted black;border-radius: 0.25em;box-sizing: border-box;margin-bottom: 0.5em;}#sk-container-id-276 div.sk-estimator:hover {background-color: #d4ebff;}#sk-container-id-276 div.sk-parallel-item::after {content: \"\";width: 100%;border-bottom: 1px solid gray;flex-grow: 1;}#sk-container-id-276 div.sk-label:hover label.sk-toggleable__label {background-color: #d4ebff;}#sk-container-id-276 div.sk-serial::before {content: \"\";position: absolute;border-left: 1px solid gray;box-sizing: border-box;top: 0;bottom: 0;left: 50%;z-index: 0;}#sk-container-id-276 div.sk-serial {display: flex;flex-direction: column;align-items: center;background-color: white;padding-right: 0.2em;padding-left: 0.2em;position: relative;}#sk-container-id-276 div.sk-item {position: relative;z-index: 1;}#sk-container-id-276 div.sk-parallel {display: flex;align-items: stretch;justify-content: center;background-color: white;position: relative;}#sk-container-id-276 div.sk-item::before, #sk-container-id-276 div.sk-parallel-item::before {content: \"\";position: absolute;border-left: 1px solid gray;box-sizing: border-box;top: 0;bottom: 0;left: 50%;z-index: -1;}#sk-container-id-276 div.sk-parallel-item {display: flex;flex-direction: column;z-index: 1;position: relative;background-color: white;}#sk-container-id-276 div.sk-parallel-item:first-child::after {align-self: flex-end;width: 50%;}#sk-container-id-276 div.sk-parallel-item:last-child::after {align-self: flex-start;width: 50%;}#sk-container-id-276 div.sk-parallel-item:only-child::after {width: 0;}#sk-container-id-276 div.sk-dashed-wrapped {border: 1px dashed gray;margin: 0 0.4em 0.5em 0.4em;box-sizing: border-box;padding-bottom: 0.4em;background-color: white;}#sk-container-id-276 div.sk-label label {font-family: monospace;font-weight: bold;display: inline-block;line-height: 1.2em;}#sk-container-id-276 div.sk-label-container {text-align: center;}#sk-container-id-276 div.sk-container {/* jupyter's `normalize.less` sets `[hidden] { display: none; }` but bootstrap.min.css set `[hidden] { display: none !important; }` so we also need the `!important` here to be able to override the default hidden behavior on the sphinx rendered scikit-learn.org. See: https://github.com/scikit-learn/scikit-learn/issues/21755 */display: inline-block !important;position: relative;}#sk-container-id-276 div.sk-text-repr-fallback {display: none;}</style><div id=\"sk-container-id-276\" class=\"sk-top-container\"><div class=\"sk-text-repr-fallback\"><pre>Pipeline(steps=[(&#x27;tfidf&#x27;, TfidfVectorizer()),\n",
       "                (&#x27;clf&#x27;,\n",
       "                 BaggingClassifier(base_estimator=DecisionTreeClassifier(max_depth=4)))])</pre><b>In a Jupyter environment, please rerun this cell to show the HTML representation or trust the notebook. <br />On GitHub, the HTML representation is unable to render, please try loading this page with nbviewer.org.</b></div><div class=\"sk-container\" hidden><div class=\"sk-item sk-dashed-wrapped\"><div class=\"sk-label-container\"><div class=\"sk-label sk-toggleable\"><input class=\"sk-toggleable__control sk-hidden--visually\" id=\"sk-estimator-id-930\" type=\"checkbox\" ><label for=\"sk-estimator-id-930\" class=\"sk-toggleable__label sk-toggleable__label-arrow\">Pipeline</label><div class=\"sk-toggleable__content\"><pre>Pipeline(steps=[(&#x27;tfidf&#x27;, TfidfVectorizer()),\n",
       "                (&#x27;clf&#x27;,\n",
       "                 BaggingClassifier(base_estimator=DecisionTreeClassifier(max_depth=4)))])</pre></div></div></div><div class=\"sk-serial\"><div class=\"sk-item\"><div class=\"sk-estimator sk-toggleable\"><input class=\"sk-toggleable__control sk-hidden--visually\" id=\"sk-estimator-id-931\" type=\"checkbox\" ><label for=\"sk-estimator-id-931\" class=\"sk-toggleable__label sk-toggleable__label-arrow\">TfidfVectorizer</label><div class=\"sk-toggleable__content\"><pre>TfidfVectorizer()</pre></div></div></div><div class=\"sk-item sk-dashed-wrapped\"><div class=\"sk-label-container\"><div class=\"sk-label sk-toggleable\"><input class=\"sk-toggleable__control sk-hidden--visually\" id=\"sk-estimator-id-932\" type=\"checkbox\" ><label for=\"sk-estimator-id-932\" class=\"sk-toggleable__label sk-toggleable__label-arrow\">clf: BaggingClassifier</label><div class=\"sk-toggleable__content\"><pre>BaggingClassifier(base_estimator=DecisionTreeClassifier(max_depth=4))</pre></div></div></div><div class=\"sk-parallel\"><div class=\"sk-parallel-item\"><div class=\"sk-item\"><div class=\"sk-label-container\"><div class=\"sk-label sk-toggleable\"><input class=\"sk-toggleable__control sk-hidden--visually\" id=\"sk-estimator-id-933\" type=\"checkbox\" ><label for=\"sk-estimator-id-933\" class=\"sk-toggleable__label sk-toggleable__label-arrow\">base_estimator: DecisionTreeClassifier</label><div class=\"sk-toggleable__content\"><pre>DecisionTreeClassifier(max_depth=4)</pre></div></div></div><div class=\"sk-serial\"><div class=\"sk-item\"><div class=\"sk-estimator sk-toggleable\"><input class=\"sk-toggleable__control sk-hidden--visually\" id=\"sk-estimator-id-934\" type=\"checkbox\" ><label for=\"sk-estimator-id-934\" class=\"sk-toggleable__label sk-toggleable__label-arrow\">DecisionTreeClassifier</label><div class=\"sk-toggleable__content\"><pre>DecisionTreeClassifier(max_depth=4)</pre></div></div></div></div></div></div></div></div></div></div></div></div>"
      ],
      "text/plain": [
       "Pipeline(steps=[('tfidf', TfidfVectorizer()),\n",
       "                ('clf',\n",
       "                 BaggingClassifier(base_estimator=DecisionTreeClassifier(max_depth=4)))])"
      ]
     },
     "execution_count": 1928,
     "metadata": {},
     "output_type": "execute_result"
    }
   ],
   "source": [
    "text_clf_b.fit(X_train, y_train)"
   ]
  },
  {
   "cell_type": "code",
   "execution_count": 1929,
   "id": "08e8fd95",
   "metadata": {},
   "outputs": [
    {
     "data": {
      "text/plain": [
       "0.871875"
      ]
     },
     "execution_count": 1929,
     "metadata": {},
     "output_type": "execute_result"
    }
   ],
   "source": [
    "text_clf_b.score(X_train, y_train)"
   ]
  },
  {
   "cell_type": "code",
   "execution_count": 1930,
   "id": "5324d1c6",
   "metadata": {},
   "outputs": [
    {
     "data": {
      "text/plain": [
       "0.7125"
      ]
     },
     "execution_count": 1930,
     "metadata": {},
     "output_type": "execute_result"
    }
   ],
   "source": [
    "text_clf_b.score(X_test, y_test)"
   ]
  },
  {
   "cell_type": "markdown",
   "id": "3ed739f4",
   "metadata": {},
   "source": [
    "## Headlinesyn "
   ]
  },
  {
   "cell_type": "code",
   "execution_count": 1881,
   "id": "37a7237d",
   "metadata": {},
   "outputs": [
    {
     "name": "stderr",
     "output_type": "stream",
     "text": [
      "C:\\Users\\sreek\\AppData\\Local\\Temp/ipykernel_17532/1157153528.py:2: SettingWithCopyWarning: \n",
      "A value is trying to be set on a copy of a slice from a DataFrame.\n",
      "Try using .loc[row_indexer,col_indexer] = value instead\n",
      "\n",
      "See the caveats in the documentation: https://pandas.pydata.org/pandas-docs/stable/user_guide/indexing.html#returning-a-view-versus-a-copy\n",
      "  fd['headsyntext_processed']=''\n"
     ]
    }
   ],
   "source": [
    "# An empty column for the preprocessed and marked text which is ready for embedding\n",
    "fd['headsyntext_processed']=''"
   ]
  },
  {
   "cell_type": "code",
   "execution_count": 1882,
   "id": "8f3f35a8",
   "metadata": {},
   "outputs": [],
   "source": [
    "articles=[]\n",
    "for i in range(0,fd.shape[0]):\n",
    "    articles.append(fd.iloc[i])"
   ]
  },
  {
   "cell_type": "code",
   "execution_count": 1883,
   "id": "fa6ebda3",
   "metadata": {},
   "outputs": [],
   "source": [
    "# Preprocessing\n",
    "\n",
    "import re\n",
    "import string\n",
    "def preprocess(article):\n",
    "  words = [word for word in str(article['Headline + Synop']).split() if word not in stopwords] # List Comprehension\n",
    "  text = \" \".join(words)\n",
    "  #Remove all the punctuation from the text\n",
    "  text = re.sub(r'[^\\w\\s]', '', text)\n",
    "  #Removes all numericals leaving the alphabets\n",
    "  text = ''.join([i for i in text if not i.isdigit()])\n",
    "  # Removing multiple spaces in the text and replacing them with a single space\n",
    "  text = re.sub(' +', ' ', text)\n",
    "  text = text.lower()\n",
    "  article.headsyntext_processed = text\n",
    "\n",
    "  return (\"Cleaning Done!\")\n"
   ]
  },
  {
   "cell_type": "code",
   "execution_count": 1884,
   "id": "1f86d475",
   "metadata": {},
   "outputs": [
    {
     "name": "stdout",
     "output_type": "stream",
     "text": [
      "Done\n",
      "0.0015799649999886848 mins\n"
     ]
    },
    {
     "name": "stderr",
     "output_type": "stream",
     "text": [
      "C:\\Users\\sreek\\anaconda3\\lib\\site-packages\\pandas\\core\\series.py:1056: SettingWithCopyWarning: \n",
      "A value is trying to be set on a copy of a slice from a DataFrame\n",
      "\n",
      "See the caveats in the documentation: https://pandas.pydata.org/pandas-docs/stable/user_guide/indexing.html#returning-a-view-versus-a-copy\n",
      "  cacher_needs_updating = self._check_is_chained_assignment_possible()\n"
     ]
    }
   ],
   "source": [
    "import time\n",
    "from timeit import default_timer as timer\n",
    "from joblib import Parallel, delayed\n",
    "\n",
    "start=timer()\n",
    "res = Parallel(\n",
    "    backend='threading',\n",
    "    n_jobs=-1\n",
    ")(delayed(preprocess)(x) for x in articles)\n",
    "print('Done')\n",
    "end=timer()\n",
    "print(((end-start)/60),\"mins\")"
   ]
  },
  {
   "cell_type": "code",
   "execution_count": 1885,
   "id": "26a6b9b5",
   "metadata": {},
   "outputs": [
    {
     "data": {
      "text/html": [
       "<div>\n",
       "<style scoped>\n",
       "    .dataframe tbody tr th:only-of-type {\n",
       "        vertical-align: middle;\n",
       "    }\n",
       "\n",
       "    .dataframe tbody tr th {\n",
       "        vertical-align: top;\n",
       "    }\n",
       "\n",
       "    .dataframe thead th {\n",
       "        text-align: right;\n",
       "    }\n",
       "</style>\n",
       "<table border=\"1\" class=\"dataframe\">\n",
       "  <thead>\n",
       "    <tr style=\"text-align: right;\">\n",
       "      <th></th>\n",
       "      <th>Headline + Synop</th>\n",
       "      <th>Full_text</th>\n",
       "      <th>Final Status</th>\n",
       "      <th>text_processed</th>\n",
       "      <th>headsyntext_processed</th>\n",
       "    </tr>\n",
       "  </thead>\n",
       "  <tbody>\n",
       "    <tr>\n",
       "      <th>0</th>\n",
       "      <td>Banks holding on to subsidy share, say payment...</td>\n",
       "      <td>ReutersPayments companies and banks are at log...</td>\n",
       "      <td>0</td>\n",
       "      <td></td>\n",
       "      <td>banks holding subsidy share say payments firms...</td>\n",
       "    </tr>\n",
       "    <tr>\n",
       "      <th>1</th>\n",
       "      <td>Digitally ready Bank of Baroda aims to click o...</td>\n",
       "      <td>AgenciesThe bank presently has 20 million acti...</td>\n",
       "      <td>1</td>\n",
       "      <td></td>\n",
       "      <td>digitally ready bank baroda aims click loans a...</td>\n",
       "    </tr>\n",
       "    <tr>\n",
       "      <th>2</th>\n",
       "      <td>Karnataka attracted investment commitment of R...</td>\n",
       "      <td>PTIKarnataka Chief Minister Basavaraj Bommai.K...</td>\n",
       "      <td>1</td>\n",
       "      <td></td>\n",
       "      <td>karnataka attracted investment commitment rs c...</td>\n",
       "    </tr>\n",
       "    <tr>\n",
       "      <th>3</th>\n",
       "      <td>Splitting of provident fund accounts may be de...</td>\n",
       "      <td>Getty ImagesThe budget for FY22 had imposed in...</td>\n",
       "      <td>0</td>\n",
       "      <td></td>\n",
       "      <td>splitting provident fund accounts may delayed ...</td>\n",
       "    </tr>\n",
       "    <tr>\n",
       "      <th>4</th>\n",
       "      <td>Irdai weighs proposal to privatise Insurance I...</td>\n",
       "      <td>AgenciesThere is a view in the insurance indus...</td>\n",
       "      <td>1</td>\n",
       "      <td></td>\n",
       "      <td>irdai weighs proposal privatise insurance info...</td>\n",
       "    </tr>\n",
       "  </tbody>\n",
       "</table>\n",
       "</div>"
      ],
      "text/plain": [
       "                                    Headline + Synop  \\\n",
       "0  Banks holding on to subsidy share, say payment...   \n",
       "1  Digitally ready Bank of Baroda aims to click o...   \n",
       "2  Karnataka attracted investment commitment of R...   \n",
       "3  Splitting of provident fund accounts may be de...   \n",
       "4  Irdai weighs proposal to privatise Insurance I...   \n",
       "\n",
       "                                           Full_text  Final Status  \\\n",
       "0  ReutersPayments companies and banks are at log...             0   \n",
       "1  AgenciesThe bank presently has 20 million acti...             1   \n",
       "2  PTIKarnataka Chief Minister Basavaraj Bommai.K...             1   \n",
       "3  Getty ImagesThe budget for FY22 had imposed in...             0   \n",
       "4  AgenciesThere is a view in the insurance indus...             1   \n",
       "\n",
       "  text_processed                              headsyntext_processed  \n",
       "0                 banks holding subsidy share say payments firms...  \n",
       "1                 digitally ready bank baroda aims click loans a...  \n",
       "2                 karnataka attracted investment commitment rs c...  \n",
       "3                 splitting provident fund accounts may delayed ...  \n",
       "4                 irdai weighs proposal privatise insurance info...  "
      ]
     },
     "execution_count": 1885,
     "metadata": {},
     "output_type": "execute_result"
    }
   ],
   "source": [
    "df = pd.DataFrame(articles)\n",
    "df.head()"
   ]
  },
  {
   "cell_type": "code",
   "execution_count": 1886,
   "id": "768f3cbc",
   "metadata": {},
   "outputs": [],
   "source": [
    "from sklearn.model_selection import train_test_split\n",
    "\n",
    "X = df['headsyntext_processed']\n",
    "y =df['Final Status']\n",
    "\n",
    "X_train, X_test, y_train, y_test = train_test_split(X, y,test_size=testsize, random_state=42)"
   ]
  },
  {
   "cell_type": "code",
   "execution_count": 1887,
   "id": "9cdb0088",
   "metadata": {},
   "outputs": [],
   "source": [
    "from sklearn.pipeline import Pipeline\n",
    "from sklearn.feature_extraction.text import TfidfVectorizer\n",
    "from sklearn.naive_bayes import MultinomialNB\n",
    "from sklearn.linear_model import LogisticRegression\n",
    "\n",
    "# Naïve Bayes:\n",
    "text_clf_nb = Pipeline([('tfidf', TfidfVectorizer()),\n",
    "                     ('clf', MultinomialNB()),\n",
    "])\n",
    "\n",
    "#Decision Tree \n",
    "text_clf_DT = Pipeline([('tfidf', TfidfVectorizer()),\n",
    "                     ('clf', DecisionTreeClassifier(max_depth = 5)),\n",
    "])"
   ]
  },
  {
   "cell_type": "code",
   "execution_count": 1888,
   "id": "be9185e7",
   "metadata": {},
   "outputs": [
    {
     "data": {
      "text/html": [
       "<style>#sk-container-id-268 {color: black;background-color: white;}#sk-container-id-268 pre{padding: 0;}#sk-container-id-268 div.sk-toggleable {background-color: white;}#sk-container-id-268 label.sk-toggleable__label {cursor: pointer;display: block;width: 100%;margin-bottom: 0;padding: 0.3em;box-sizing: border-box;text-align: center;}#sk-container-id-268 label.sk-toggleable__label-arrow:before {content: \"▸\";float: left;margin-right: 0.25em;color: #696969;}#sk-container-id-268 label.sk-toggleable__label-arrow:hover:before {color: black;}#sk-container-id-268 div.sk-estimator:hover label.sk-toggleable__label-arrow:before {color: black;}#sk-container-id-268 div.sk-toggleable__content {max-height: 0;max-width: 0;overflow: hidden;text-align: left;background-color: #f0f8ff;}#sk-container-id-268 div.sk-toggleable__content pre {margin: 0.2em;color: black;border-radius: 0.25em;background-color: #f0f8ff;}#sk-container-id-268 input.sk-toggleable__control:checked~div.sk-toggleable__content {max-height: 200px;max-width: 100%;overflow: auto;}#sk-container-id-268 input.sk-toggleable__control:checked~label.sk-toggleable__label-arrow:before {content: \"▾\";}#sk-container-id-268 div.sk-estimator input.sk-toggleable__control:checked~label.sk-toggleable__label {background-color: #d4ebff;}#sk-container-id-268 div.sk-label input.sk-toggleable__control:checked~label.sk-toggleable__label {background-color: #d4ebff;}#sk-container-id-268 input.sk-hidden--visually {border: 0;clip: rect(1px 1px 1px 1px);clip: rect(1px, 1px, 1px, 1px);height: 1px;margin: -1px;overflow: hidden;padding: 0;position: absolute;width: 1px;}#sk-container-id-268 div.sk-estimator {font-family: monospace;background-color: #f0f8ff;border: 1px dotted black;border-radius: 0.25em;box-sizing: border-box;margin-bottom: 0.5em;}#sk-container-id-268 div.sk-estimator:hover {background-color: #d4ebff;}#sk-container-id-268 div.sk-parallel-item::after {content: \"\";width: 100%;border-bottom: 1px solid gray;flex-grow: 1;}#sk-container-id-268 div.sk-label:hover label.sk-toggleable__label {background-color: #d4ebff;}#sk-container-id-268 div.sk-serial::before {content: \"\";position: absolute;border-left: 1px solid gray;box-sizing: border-box;top: 0;bottom: 0;left: 50%;z-index: 0;}#sk-container-id-268 div.sk-serial {display: flex;flex-direction: column;align-items: center;background-color: white;padding-right: 0.2em;padding-left: 0.2em;position: relative;}#sk-container-id-268 div.sk-item {position: relative;z-index: 1;}#sk-container-id-268 div.sk-parallel {display: flex;align-items: stretch;justify-content: center;background-color: white;position: relative;}#sk-container-id-268 div.sk-item::before, #sk-container-id-268 div.sk-parallel-item::before {content: \"\";position: absolute;border-left: 1px solid gray;box-sizing: border-box;top: 0;bottom: 0;left: 50%;z-index: -1;}#sk-container-id-268 div.sk-parallel-item {display: flex;flex-direction: column;z-index: 1;position: relative;background-color: white;}#sk-container-id-268 div.sk-parallel-item:first-child::after {align-self: flex-end;width: 50%;}#sk-container-id-268 div.sk-parallel-item:last-child::after {align-self: flex-start;width: 50%;}#sk-container-id-268 div.sk-parallel-item:only-child::after {width: 0;}#sk-container-id-268 div.sk-dashed-wrapped {border: 1px dashed gray;margin: 0 0.4em 0.5em 0.4em;box-sizing: border-box;padding-bottom: 0.4em;background-color: white;}#sk-container-id-268 div.sk-label label {font-family: monospace;font-weight: bold;display: inline-block;line-height: 1.2em;}#sk-container-id-268 div.sk-label-container {text-align: center;}#sk-container-id-268 div.sk-container {/* jupyter's `normalize.less` sets `[hidden] { display: none; }` but bootstrap.min.css set `[hidden] { display: none !important; }` so we also need the `!important` here to be able to override the default hidden behavior on the sphinx rendered scikit-learn.org. See: https://github.com/scikit-learn/scikit-learn/issues/21755 */display: inline-block !important;position: relative;}#sk-container-id-268 div.sk-text-repr-fallback {display: none;}</style><div id=\"sk-container-id-268\" class=\"sk-top-container\"><div class=\"sk-text-repr-fallback\"><pre>Pipeline(steps=[(&#x27;tfidf&#x27;, TfidfVectorizer()), (&#x27;clf&#x27;, MultinomialNB())])</pre><b>In a Jupyter environment, please rerun this cell to show the HTML representation or trust the notebook. <br />On GitHub, the HTML representation is unable to render, please try loading this page with nbviewer.org.</b></div><div class=\"sk-container\" hidden><div class=\"sk-item sk-dashed-wrapped\"><div class=\"sk-label-container\"><div class=\"sk-label sk-toggleable\"><input class=\"sk-toggleable__control sk-hidden--visually\" id=\"sk-estimator-id-902\" type=\"checkbox\" ><label for=\"sk-estimator-id-902\" class=\"sk-toggleable__label sk-toggleable__label-arrow\">Pipeline</label><div class=\"sk-toggleable__content\"><pre>Pipeline(steps=[(&#x27;tfidf&#x27;, TfidfVectorizer()), (&#x27;clf&#x27;, MultinomialNB())])</pre></div></div></div><div class=\"sk-serial\"><div class=\"sk-item\"><div class=\"sk-estimator sk-toggleable\"><input class=\"sk-toggleable__control sk-hidden--visually\" id=\"sk-estimator-id-903\" type=\"checkbox\" ><label for=\"sk-estimator-id-903\" class=\"sk-toggleable__label sk-toggleable__label-arrow\">TfidfVectorizer</label><div class=\"sk-toggleable__content\"><pre>TfidfVectorizer()</pre></div></div></div><div class=\"sk-item\"><div class=\"sk-estimator sk-toggleable\"><input class=\"sk-toggleable__control sk-hidden--visually\" id=\"sk-estimator-id-904\" type=\"checkbox\" ><label for=\"sk-estimator-id-904\" class=\"sk-toggleable__label sk-toggleable__label-arrow\">MultinomialNB</label><div class=\"sk-toggleable__content\"><pre>MultinomialNB()</pre></div></div></div></div></div></div></div>"
      ],
      "text/plain": [
       "Pipeline(steps=[('tfidf', TfidfVectorizer()), ('clf', MultinomialNB())])"
      ]
     },
     "execution_count": 1888,
     "metadata": {},
     "output_type": "execute_result"
    }
   ],
   "source": [
    "text_clf_nb.fit(X_train, y_train)"
   ]
  },
  {
   "cell_type": "code",
   "execution_count": 1889,
   "id": "c26b02e6",
   "metadata": {},
   "outputs": [],
   "source": [
    "# Form a prediction set\n",
    "predictions = text_clf_nb.predict(X_test)"
   ]
  },
  {
   "cell_type": "code",
   "execution_count": 1890,
   "id": "bf8bc9a6",
   "metadata": {},
   "outputs": [
    {
     "name": "stdout",
     "output_type": "stream",
     "text": [
      "Naive Bayes:\n",
      "\n",
      "\n",
      "              precision    recall  f1-score   support\n",
      "\n",
      "           0       0.75      0.53      0.62        40\n",
      "           1       0.63      0.82      0.72        40\n",
      "\n",
      "    accuracy                           0.68        80\n",
      "   macro avg       0.69      0.68      0.67        80\n",
      "weighted avg       0.69      0.68      0.67        80\n",
      "\n"
     ]
    }
   ],
   "source": [
    "# Print a classification report\n",
    "print(\"Naive Bayes:\")\n",
    "print(\"\\n\")\n",
    "print(metrics.classification_report(y_test,predictions))"
   ]
  },
  {
   "cell_type": "code",
   "execution_count": 1891,
   "id": "d3b5c1f9",
   "metadata": {},
   "outputs": [
    {
     "data": {
      "text/html": [
       "<style>#sk-container-id-269 {color: black;background-color: white;}#sk-container-id-269 pre{padding: 0;}#sk-container-id-269 div.sk-toggleable {background-color: white;}#sk-container-id-269 label.sk-toggleable__label {cursor: pointer;display: block;width: 100%;margin-bottom: 0;padding: 0.3em;box-sizing: border-box;text-align: center;}#sk-container-id-269 label.sk-toggleable__label-arrow:before {content: \"▸\";float: left;margin-right: 0.25em;color: #696969;}#sk-container-id-269 label.sk-toggleable__label-arrow:hover:before {color: black;}#sk-container-id-269 div.sk-estimator:hover label.sk-toggleable__label-arrow:before {color: black;}#sk-container-id-269 div.sk-toggleable__content {max-height: 0;max-width: 0;overflow: hidden;text-align: left;background-color: #f0f8ff;}#sk-container-id-269 div.sk-toggleable__content pre {margin: 0.2em;color: black;border-radius: 0.25em;background-color: #f0f8ff;}#sk-container-id-269 input.sk-toggleable__control:checked~div.sk-toggleable__content {max-height: 200px;max-width: 100%;overflow: auto;}#sk-container-id-269 input.sk-toggleable__control:checked~label.sk-toggleable__label-arrow:before {content: \"▾\";}#sk-container-id-269 div.sk-estimator input.sk-toggleable__control:checked~label.sk-toggleable__label {background-color: #d4ebff;}#sk-container-id-269 div.sk-label input.sk-toggleable__control:checked~label.sk-toggleable__label {background-color: #d4ebff;}#sk-container-id-269 input.sk-hidden--visually {border: 0;clip: rect(1px 1px 1px 1px);clip: rect(1px, 1px, 1px, 1px);height: 1px;margin: -1px;overflow: hidden;padding: 0;position: absolute;width: 1px;}#sk-container-id-269 div.sk-estimator {font-family: monospace;background-color: #f0f8ff;border: 1px dotted black;border-radius: 0.25em;box-sizing: border-box;margin-bottom: 0.5em;}#sk-container-id-269 div.sk-estimator:hover {background-color: #d4ebff;}#sk-container-id-269 div.sk-parallel-item::after {content: \"\";width: 100%;border-bottom: 1px solid gray;flex-grow: 1;}#sk-container-id-269 div.sk-label:hover label.sk-toggleable__label {background-color: #d4ebff;}#sk-container-id-269 div.sk-serial::before {content: \"\";position: absolute;border-left: 1px solid gray;box-sizing: border-box;top: 0;bottom: 0;left: 50%;z-index: 0;}#sk-container-id-269 div.sk-serial {display: flex;flex-direction: column;align-items: center;background-color: white;padding-right: 0.2em;padding-left: 0.2em;position: relative;}#sk-container-id-269 div.sk-item {position: relative;z-index: 1;}#sk-container-id-269 div.sk-parallel {display: flex;align-items: stretch;justify-content: center;background-color: white;position: relative;}#sk-container-id-269 div.sk-item::before, #sk-container-id-269 div.sk-parallel-item::before {content: \"\";position: absolute;border-left: 1px solid gray;box-sizing: border-box;top: 0;bottom: 0;left: 50%;z-index: -1;}#sk-container-id-269 div.sk-parallel-item {display: flex;flex-direction: column;z-index: 1;position: relative;background-color: white;}#sk-container-id-269 div.sk-parallel-item:first-child::after {align-self: flex-end;width: 50%;}#sk-container-id-269 div.sk-parallel-item:last-child::after {align-self: flex-start;width: 50%;}#sk-container-id-269 div.sk-parallel-item:only-child::after {width: 0;}#sk-container-id-269 div.sk-dashed-wrapped {border: 1px dashed gray;margin: 0 0.4em 0.5em 0.4em;box-sizing: border-box;padding-bottom: 0.4em;background-color: white;}#sk-container-id-269 div.sk-label label {font-family: monospace;font-weight: bold;display: inline-block;line-height: 1.2em;}#sk-container-id-269 div.sk-label-container {text-align: center;}#sk-container-id-269 div.sk-container {/* jupyter's `normalize.less` sets `[hidden] { display: none; }` but bootstrap.min.css set `[hidden] { display: none !important; }` so we also need the `!important` here to be able to override the default hidden behavior on the sphinx rendered scikit-learn.org. See: https://github.com/scikit-learn/scikit-learn/issues/21755 */display: inline-block !important;position: relative;}#sk-container-id-269 div.sk-text-repr-fallback {display: none;}</style><div id=\"sk-container-id-269\" class=\"sk-top-container\"><div class=\"sk-text-repr-fallback\"><pre>Pipeline(steps=[(&#x27;tfidf&#x27;, TfidfVectorizer()),\n",
       "                (&#x27;clf&#x27;, DecisionTreeClassifier(max_depth=5))])</pre><b>In a Jupyter environment, please rerun this cell to show the HTML representation or trust the notebook. <br />On GitHub, the HTML representation is unable to render, please try loading this page with nbviewer.org.</b></div><div class=\"sk-container\" hidden><div class=\"sk-item sk-dashed-wrapped\"><div class=\"sk-label-container\"><div class=\"sk-label sk-toggleable\"><input class=\"sk-toggleable__control sk-hidden--visually\" id=\"sk-estimator-id-905\" type=\"checkbox\" ><label for=\"sk-estimator-id-905\" class=\"sk-toggleable__label sk-toggleable__label-arrow\">Pipeline</label><div class=\"sk-toggleable__content\"><pre>Pipeline(steps=[(&#x27;tfidf&#x27;, TfidfVectorizer()),\n",
       "                (&#x27;clf&#x27;, DecisionTreeClassifier(max_depth=5))])</pre></div></div></div><div class=\"sk-serial\"><div class=\"sk-item\"><div class=\"sk-estimator sk-toggleable\"><input class=\"sk-toggleable__control sk-hidden--visually\" id=\"sk-estimator-id-906\" type=\"checkbox\" ><label for=\"sk-estimator-id-906\" class=\"sk-toggleable__label sk-toggleable__label-arrow\">TfidfVectorizer</label><div class=\"sk-toggleable__content\"><pre>TfidfVectorizer()</pre></div></div></div><div class=\"sk-item\"><div class=\"sk-estimator sk-toggleable\"><input class=\"sk-toggleable__control sk-hidden--visually\" id=\"sk-estimator-id-907\" type=\"checkbox\" ><label for=\"sk-estimator-id-907\" class=\"sk-toggleable__label sk-toggleable__label-arrow\">DecisionTreeClassifier</label><div class=\"sk-toggleable__content\"><pre>DecisionTreeClassifier(max_depth=5)</pre></div></div></div></div></div></div></div>"
      ],
      "text/plain": [
       "Pipeline(steps=[('tfidf', TfidfVectorizer()),\n",
       "                ('clf', DecisionTreeClassifier(max_depth=5))])"
      ]
     },
     "execution_count": 1891,
     "metadata": {},
     "output_type": "execute_result"
    }
   ],
   "source": [
    "text_clf_DT.fit(X_train, y_train)"
   ]
  },
  {
   "cell_type": "code",
   "execution_count": 1892,
   "id": "4779f766",
   "metadata": {},
   "outputs": [
    {
     "data": {
      "text/plain": [
       "0.778125"
      ]
     },
     "execution_count": 1892,
     "metadata": {},
     "output_type": "execute_result"
    }
   ],
   "source": [
    "text_clf_DT.score(X_train, y_train)"
   ]
  },
  {
   "cell_type": "code",
   "execution_count": 1893,
   "id": "13228744",
   "metadata": {},
   "outputs": [
    {
     "data": {
      "text/plain": [
       "0.65"
      ]
     },
     "execution_count": 1893,
     "metadata": {},
     "output_type": "execute_result"
    }
   ],
   "source": [
    "text_clf_DT.score(X_test, y_test)"
   ]
  },
  {
   "cell_type": "code",
   "execution_count": 1894,
   "id": "0a47f19e",
   "metadata": {},
   "outputs": [],
   "source": [
    "# Form a prediction set\n",
    "predictions = text_clf_DT.predict(X_test)"
   ]
  },
  {
   "cell_type": "code",
   "execution_count": 1895,
   "id": "f6c7b5d5",
   "metadata": {},
   "outputs": [
    {
     "name": "stdout",
     "output_type": "stream",
     "text": [
      "Decision Tree:\n",
      "\n",
      "\n",
      "              precision    recall  f1-score   support\n",
      "\n",
      "           0       0.93      0.33      0.48        40\n",
      "           1       0.59      0.97      0.74        40\n",
      "\n",
      "    accuracy                           0.65        80\n",
      "   macro avg       0.76      0.65      0.61        80\n",
      "weighted avg       0.76      0.65      0.61        80\n",
      "\n"
     ]
    }
   ],
   "source": [
    "# Print a classification report\n",
    "print(\"Decision Tree:\")\n",
    "print(\"\\n\")\n",
    "print(metrics.classification_report(y_test,predictions))"
   ]
  },
  {
   "cell_type": "code",
   "execution_count": 1896,
   "id": "8f7f2bd7",
   "metadata": {},
   "outputs": [],
   "source": [
    "# importing random forest classifier from assemble module\n",
    "from sklearn.ensemble import RandomForestClassifier"
   ]
  },
  {
   "cell_type": "code",
   "execution_count": 1897,
   "id": "ccd03af8",
   "metadata": {},
   "outputs": [],
   "source": [
    "text_clf_rf = Pipeline([('tfidf', TfidfVectorizer()),\n",
    "                     ('clf', RandomForestClassifier(max_depth = 5)),\n",
    "])\n"
   ]
  },
  {
   "cell_type": "code",
   "execution_count": 1898,
   "id": "1acd3848",
   "metadata": {},
   "outputs": [
    {
     "data": {
      "text/html": [
       "<style>#sk-container-id-270 {color: black;background-color: white;}#sk-container-id-270 pre{padding: 0;}#sk-container-id-270 div.sk-toggleable {background-color: white;}#sk-container-id-270 label.sk-toggleable__label {cursor: pointer;display: block;width: 100%;margin-bottom: 0;padding: 0.3em;box-sizing: border-box;text-align: center;}#sk-container-id-270 label.sk-toggleable__label-arrow:before {content: \"▸\";float: left;margin-right: 0.25em;color: #696969;}#sk-container-id-270 label.sk-toggleable__label-arrow:hover:before {color: black;}#sk-container-id-270 div.sk-estimator:hover label.sk-toggleable__label-arrow:before {color: black;}#sk-container-id-270 div.sk-toggleable__content {max-height: 0;max-width: 0;overflow: hidden;text-align: left;background-color: #f0f8ff;}#sk-container-id-270 div.sk-toggleable__content pre {margin: 0.2em;color: black;border-radius: 0.25em;background-color: #f0f8ff;}#sk-container-id-270 input.sk-toggleable__control:checked~div.sk-toggleable__content {max-height: 200px;max-width: 100%;overflow: auto;}#sk-container-id-270 input.sk-toggleable__control:checked~label.sk-toggleable__label-arrow:before {content: \"▾\";}#sk-container-id-270 div.sk-estimator input.sk-toggleable__control:checked~label.sk-toggleable__label {background-color: #d4ebff;}#sk-container-id-270 div.sk-label input.sk-toggleable__control:checked~label.sk-toggleable__label {background-color: #d4ebff;}#sk-container-id-270 input.sk-hidden--visually {border: 0;clip: rect(1px 1px 1px 1px);clip: rect(1px, 1px, 1px, 1px);height: 1px;margin: -1px;overflow: hidden;padding: 0;position: absolute;width: 1px;}#sk-container-id-270 div.sk-estimator {font-family: monospace;background-color: #f0f8ff;border: 1px dotted black;border-radius: 0.25em;box-sizing: border-box;margin-bottom: 0.5em;}#sk-container-id-270 div.sk-estimator:hover {background-color: #d4ebff;}#sk-container-id-270 div.sk-parallel-item::after {content: \"\";width: 100%;border-bottom: 1px solid gray;flex-grow: 1;}#sk-container-id-270 div.sk-label:hover label.sk-toggleable__label {background-color: #d4ebff;}#sk-container-id-270 div.sk-serial::before {content: \"\";position: absolute;border-left: 1px solid gray;box-sizing: border-box;top: 0;bottom: 0;left: 50%;z-index: 0;}#sk-container-id-270 div.sk-serial {display: flex;flex-direction: column;align-items: center;background-color: white;padding-right: 0.2em;padding-left: 0.2em;position: relative;}#sk-container-id-270 div.sk-item {position: relative;z-index: 1;}#sk-container-id-270 div.sk-parallel {display: flex;align-items: stretch;justify-content: center;background-color: white;position: relative;}#sk-container-id-270 div.sk-item::before, #sk-container-id-270 div.sk-parallel-item::before {content: \"\";position: absolute;border-left: 1px solid gray;box-sizing: border-box;top: 0;bottom: 0;left: 50%;z-index: -1;}#sk-container-id-270 div.sk-parallel-item {display: flex;flex-direction: column;z-index: 1;position: relative;background-color: white;}#sk-container-id-270 div.sk-parallel-item:first-child::after {align-self: flex-end;width: 50%;}#sk-container-id-270 div.sk-parallel-item:last-child::after {align-self: flex-start;width: 50%;}#sk-container-id-270 div.sk-parallel-item:only-child::after {width: 0;}#sk-container-id-270 div.sk-dashed-wrapped {border: 1px dashed gray;margin: 0 0.4em 0.5em 0.4em;box-sizing: border-box;padding-bottom: 0.4em;background-color: white;}#sk-container-id-270 div.sk-label label {font-family: monospace;font-weight: bold;display: inline-block;line-height: 1.2em;}#sk-container-id-270 div.sk-label-container {text-align: center;}#sk-container-id-270 div.sk-container {/* jupyter's `normalize.less` sets `[hidden] { display: none; }` but bootstrap.min.css set `[hidden] { display: none !important; }` so we also need the `!important` here to be able to override the default hidden behavior on the sphinx rendered scikit-learn.org. See: https://github.com/scikit-learn/scikit-learn/issues/21755 */display: inline-block !important;position: relative;}#sk-container-id-270 div.sk-text-repr-fallback {display: none;}</style><div id=\"sk-container-id-270\" class=\"sk-top-container\"><div class=\"sk-text-repr-fallback\"><pre>Pipeline(steps=[(&#x27;tfidf&#x27;, TfidfVectorizer()),\n",
       "                (&#x27;clf&#x27;, RandomForestClassifier(max_depth=5))])</pre><b>In a Jupyter environment, please rerun this cell to show the HTML representation or trust the notebook. <br />On GitHub, the HTML representation is unable to render, please try loading this page with nbviewer.org.</b></div><div class=\"sk-container\" hidden><div class=\"sk-item sk-dashed-wrapped\"><div class=\"sk-label-container\"><div class=\"sk-label sk-toggleable\"><input class=\"sk-toggleable__control sk-hidden--visually\" id=\"sk-estimator-id-908\" type=\"checkbox\" ><label for=\"sk-estimator-id-908\" class=\"sk-toggleable__label sk-toggleable__label-arrow\">Pipeline</label><div class=\"sk-toggleable__content\"><pre>Pipeline(steps=[(&#x27;tfidf&#x27;, TfidfVectorizer()),\n",
       "                (&#x27;clf&#x27;, RandomForestClassifier(max_depth=5))])</pre></div></div></div><div class=\"sk-serial\"><div class=\"sk-item\"><div class=\"sk-estimator sk-toggleable\"><input class=\"sk-toggleable__control sk-hidden--visually\" id=\"sk-estimator-id-909\" type=\"checkbox\" ><label for=\"sk-estimator-id-909\" class=\"sk-toggleable__label sk-toggleable__label-arrow\">TfidfVectorizer</label><div class=\"sk-toggleable__content\"><pre>TfidfVectorizer()</pre></div></div></div><div class=\"sk-item\"><div class=\"sk-estimator sk-toggleable\"><input class=\"sk-toggleable__control sk-hidden--visually\" id=\"sk-estimator-id-910\" type=\"checkbox\" ><label for=\"sk-estimator-id-910\" class=\"sk-toggleable__label sk-toggleable__label-arrow\">RandomForestClassifier</label><div class=\"sk-toggleable__content\"><pre>RandomForestClassifier(max_depth=5)</pre></div></div></div></div></div></div></div>"
      ],
      "text/plain": [
       "Pipeline(steps=[('tfidf', TfidfVectorizer()),\n",
       "                ('clf', RandomForestClassifier(max_depth=5))])"
      ]
     },
     "execution_count": 1898,
     "metadata": {},
     "output_type": "execute_result"
    }
   ],
   "source": [
    "text_clf_rf.fit(X_train, y_train)"
   ]
  },
  {
   "cell_type": "code",
   "execution_count": 1899,
   "id": "5a8ccacc",
   "metadata": {},
   "outputs": [
    {
     "data": {
      "text/plain": [
       "0.76875"
      ]
     },
     "execution_count": 1899,
     "metadata": {},
     "output_type": "execute_result"
    }
   ],
   "source": [
    "text_clf_rf.score(X_train, y_train)"
   ]
  },
  {
   "cell_type": "code",
   "execution_count": 1900,
   "id": "a203fb65",
   "metadata": {},
   "outputs": [
    {
     "data": {
      "text/plain": [
       "0.6125"
      ]
     },
     "execution_count": 1900,
     "metadata": {},
     "output_type": "execute_result"
    }
   ],
   "source": [
    "text_clf_rf.score(X_test, y_test)"
   ]
  },
  {
   "cell_type": "code",
   "execution_count": 1901,
   "id": "4b8302db",
   "metadata": {},
   "outputs": [],
   "source": [
    "from sklearn.ensemble import BaggingClassifier"
   ]
  },
  {
   "cell_type": "code",
   "execution_count": 1902,
   "id": "7c9b7779",
   "metadata": {},
   "outputs": [],
   "source": [
    "text_clf_b = Pipeline([('tfidf', TfidfVectorizer()),\n",
    "                     ('clf', BaggingClassifier(DecisionTreeClassifier(max_depth = 6))),\n",
    "])"
   ]
  },
  {
   "cell_type": "code",
   "execution_count": 1903,
   "id": "1878dac7",
   "metadata": {},
   "outputs": [
    {
     "data": {
      "text/html": [
       "<style>#sk-container-id-271 {color: black;background-color: white;}#sk-container-id-271 pre{padding: 0;}#sk-container-id-271 div.sk-toggleable {background-color: white;}#sk-container-id-271 label.sk-toggleable__label {cursor: pointer;display: block;width: 100%;margin-bottom: 0;padding: 0.3em;box-sizing: border-box;text-align: center;}#sk-container-id-271 label.sk-toggleable__label-arrow:before {content: \"▸\";float: left;margin-right: 0.25em;color: #696969;}#sk-container-id-271 label.sk-toggleable__label-arrow:hover:before {color: black;}#sk-container-id-271 div.sk-estimator:hover label.sk-toggleable__label-arrow:before {color: black;}#sk-container-id-271 div.sk-toggleable__content {max-height: 0;max-width: 0;overflow: hidden;text-align: left;background-color: #f0f8ff;}#sk-container-id-271 div.sk-toggleable__content pre {margin: 0.2em;color: black;border-radius: 0.25em;background-color: #f0f8ff;}#sk-container-id-271 input.sk-toggleable__control:checked~div.sk-toggleable__content {max-height: 200px;max-width: 100%;overflow: auto;}#sk-container-id-271 input.sk-toggleable__control:checked~label.sk-toggleable__label-arrow:before {content: \"▾\";}#sk-container-id-271 div.sk-estimator input.sk-toggleable__control:checked~label.sk-toggleable__label {background-color: #d4ebff;}#sk-container-id-271 div.sk-label input.sk-toggleable__control:checked~label.sk-toggleable__label {background-color: #d4ebff;}#sk-container-id-271 input.sk-hidden--visually {border: 0;clip: rect(1px 1px 1px 1px);clip: rect(1px, 1px, 1px, 1px);height: 1px;margin: -1px;overflow: hidden;padding: 0;position: absolute;width: 1px;}#sk-container-id-271 div.sk-estimator {font-family: monospace;background-color: #f0f8ff;border: 1px dotted black;border-radius: 0.25em;box-sizing: border-box;margin-bottom: 0.5em;}#sk-container-id-271 div.sk-estimator:hover {background-color: #d4ebff;}#sk-container-id-271 div.sk-parallel-item::after {content: \"\";width: 100%;border-bottom: 1px solid gray;flex-grow: 1;}#sk-container-id-271 div.sk-label:hover label.sk-toggleable__label {background-color: #d4ebff;}#sk-container-id-271 div.sk-serial::before {content: \"\";position: absolute;border-left: 1px solid gray;box-sizing: border-box;top: 0;bottom: 0;left: 50%;z-index: 0;}#sk-container-id-271 div.sk-serial {display: flex;flex-direction: column;align-items: center;background-color: white;padding-right: 0.2em;padding-left: 0.2em;position: relative;}#sk-container-id-271 div.sk-item {position: relative;z-index: 1;}#sk-container-id-271 div.sk-parallel {display: flex;align-items: stretch;justify-content: center;background-color: white;position: relative;}#sk-container-id-271 div.sk-item::before, #sk-container-id-271 div.sk-parallel-item::before {content: \"\";position: absolute;border-left: 1px solid gray;box-sizing: border-box;top: 0;bottom: 0;left: 50%;z-index: -1;}#sk-container-id-271 div.sk-parallel-item {display: flex;flex-direction: column;z-index: 1;position: relative;background-color: white;}#sk-container-id-271 div.sk-parallel-item:first-child::after {align-self: flex-end;width: 50%;}#sk-container-id-271 div.sk-parallel-item:last-child::after {align-self: flex-start;width: 50%;}#sk-container-id-271 div.sk-parallel-item:only-child::after {width: 0;}#sk-container-id-271 div.sk-dashed-wrapped {border: 1px dashed gray;margin: 0 0.4em 0.5em 0.4em;box-sizing: border-box;padding-bottom: 0.4em;background-color: white;}#sk-container-id-271 div.sk-label label {font-family: monospace;font-weight: bold;display: inline-block;line-height: 1.2em;}#sk-container-id-271 div.sk-label-container {text-align: center;}#sk-container-id-271 div.sk-container {/* jupyter's `normalize.less` sets `[hidden] { display: none; }` but bootstrap.min.css set `[hidden] { display: none !important; }` so we also need the `!important` here to be able to override the default hidden behavior on the sphinx rendered scikit-learn.org. See: https://github.com/scikit-learn/scikit-learn/issues/21755 */display: inline-block !important;position: relative;}#sk-container-id-271 div.sk-text-repr-fallback {display: none;}</style><div id=\"sk-container-id-271\" class=\"sk-top-container\"><div class=\"sk-text-repr-fallback\"><pre>Pipeline(steps=[(&#x27;tfidf&#x27;, TfidfVectorizer()),\n",
       "                (&#x27;clf&#x27;,\n",
       "                 BaggingClassifier(base_estimator=DecisionTreeClassifier(max_depth=6)))])</pre><b>In a Jupyter environment, please rerun this cell to show the HTML representation or trust the notebook. <br />On GitHub, the HTML representation is unable to render, please try loading this page with nbviewer.org.</b></div><div class=\"sk-container\" hidden><div class=\"sk-item sk-dashed-wrapped\"><div class=\"sk-label-container\"><div class=\"sk-label sk-toggleable\"><input class=\"sk-toggleable__control sk-hidden--visually\" id=\"sk-estimator-id-911\" type=\"checkbox\" ><label for=\"sk-estimator-id-911\" class=\"sk-toggleable__label sk-toggleable__label-arrow\">Pipeline</label><div class=\"sk-toggleable__content\"><pre>Pipeline(steps=[(&#x27;tfidf&#x27;, TfidfVectorizer()),\n",
       "                (&#x27;clf&#x27;,\n",
       "                 BaggingClassifier(base_estimator=DecisionTreeClassifier(max_depth=6)))])</pre></div></div></div><div class=\"sk-serial\"><div class=\"sk-item\"><div class=\"sk-estimator sk-toggleable\"><input class=\"sk-toggleable__control sk-hidden--visually\" id=\"sk-estimator-id-912\" type=\"checkbox\" ><label for=\"sk-estimator-id-912\" class=\"sk-toggleable__label sk-toggleable__label-arrow\">TfidfVectorizer</label><div class=\"sk-toggleable__content\"><pre>TfidfVectorizer()</pre></div></div></div><div class=\"sk-item sk-dashed-wrapped\"><div class=\"sk-label-container\"><div class=\"sk-label sk-toggleable\"><input class=\"sk-toggleable__control sk-hidden--visually\" id=\"sk-estimator-id-913\" type=\"checkbox\" ><label for=\"sk-estimator-id-913\" class=\"sk-toggleable__label sk-toggleable__label-arrow\">clf: BaggingClassifier</label><div class=\"sk-toggleable__content\"><pre>BaggingClassifier(base_estimator=DecisionTreeClassifier(max_depth=6))</pre></div></div></div><div class=\"sk-parallel\"><div class=\"sk-parallel-item\"><div class=\"sk-item\"><div class=\"sk-label-container\"><div class=\"sk-label sk-toggleable\"><input class=\"sk-toggleable__control sk-hidden--visually\" id=\"sk-estimator-id-914\" type=\"checkbox\" ><label for=\"sk-estimator-id-914\" class=\"sk-toggleable__label sk-toggleable__label-arrow\">base_estimator: DecisionTreeClassifier</label><div class=\"sk-toggleable__content\"><pre>DecisionTreeClassifier(max_depth=6)</pre></div></div></div><div class=\"sk-serial\"><div class=\"sk-item\"><div class=\"sk-estimator sk-toggleable\"><input class=\"sk-toggleable__control sk-hidden--visually\" id=\"sk-estimator-id-915\" type=\"checkbox\" ><label for=\"sk-estimator-id-915\" class=\"sk-toggleable__label sk-toggleable__label-arrow\">DecisionTreeClassifier</label><div class=\"sk-toggleable__content\"><pre>DecisionTreeClassifier(max_depth=6)</pre></div></div></div></div></div></div></div></div></div></div></div></div>"
      ],
      "text/plain": [
       "Pipeline(steps=[('tfidf', TfidfVectorizer()),\n",
       "                ('clf',\n",
       "                 BaggingClassifier(base_estimator=DecisionTreeClassifier(max_depth=6)))])"
      ]
     },
     "execution_count": 1903,
     "metadata": {},
     "output_type": "execute_result"
    }
   ],
   "source": [
    "text_clf_b.fit(X_train, y_train)"
   ]
  },
  {
   "cell_type": "code",
   "execution_count": 1904,
   "id": "14cf0a24",
   "metadata": {},
   "outputs": [
    {
     "data": {
      "text/plain": [
       "0.88125"
      ]
     },
     "execution_count": 1904,
     "metadata": {},
     "output_type": "execute_result"
    }
   ],
   "source": [
    "text_clf_b.score(X_train, y_train)"
   ]
  },
  {
   "cell_type": "code",
   "execution_count": 1905,
   "id": "e143e8ca",
   "metadata": {},
   "outputs": [
    {
     "data": {
      "text/plain": [
       "0.7375"
      ]
     },
     "execution_count": 1905,
     "metadata": {},
     "output_type": "execute_result"
    }
   ],
   "source": [
    "text_clf_b.score(X_test, y_test)"
   ]
  },
  {
   "cell_type": "code",
   "execution_count": null,
   "id": "f3581fbf",
   "metadata": {},
   "outputs": [],
   "source": []
  }
 ],
 "metadata": {
  "kernelspec": {
   "display_name": "Python 3 (ipykernel)",
   "language": "python",
   "name": "python3"
  },
  "language_info": {
   "codemirror_mode": {
    "name": "ipython",
    "version": 3
   },
   "file_extension": ".py",
   "mimetype": "text/x-python",
   "name": "python",
   "nbconvert_exporter": "python",
   "pygments_lexer": "ipython3",
   "version": "3.9.7"
  }
 },
 "nbformat": 4,
 "nbformat_minor": 5
}
