{
 "cells": [
  {
   "cell_type": "code",
   "execution_count": 1073,
   "id": "7e4f8398",
   "metadata": {},
   "outputs": [],
   "source": [
    "import numpy as np\n",
    "import pandas as pd\n",
    "import os"
   ]
  },
  {
   "cell_type": "code",
   "execution_count": 1074,
   "id": "3f9d4a27",
   "metadata": {},
   "outputs": [],
   "source": [
    "os.chdir(r\"C:\\Users\\sreek\\Documents\\1. Praxis\\3. Term 3\\3. CAPP- New\")"
   ]
  },
  {
   "cell_type": "code",
   "execution_count": 1075,
   "id": "a5a71124",
   "metadata": {},
   "outputs": [],
   "source": [
    "data = pd.read_csv(\"Master data - Sample 2 Non Financial_ copy.csv\")"
   ]
  },
  {
   "cell_type": "code",
   "execution_count": 1076,
   "id": "cb60f5d9",
   "metadata": {},
   "outputs": [
    {
     "data": {
      "text/plain": [
       "Index(['Org_ID', 'Date_published', 'Enc_ID', 'Headline', 'Synopsis',\n",
       "       'Headline + Synop', 'Full_text', 'A-1', 'A-1 Status', 'A-11',\n",
       "       'A-11 Status', 'K-33', 'K-33 Status', 'Mean rating', 'Final Status',\n",
       "       'Match b/w team - Manual', 'Vader_compound_score', 'Vader- Status',\n",
       "       'lm_polarity', 'LM- Status', 'pattern_polarity', 'Pattern - Status',\n",
       "       'Sample Vs Vader', 'Sample Vs LM', 'Sample Vs Pattern'],\n",
       "      dtype='object')"
      ]
     },
     "execution_count": 1076,
     "metadata": {},
     "output_type": "execute_result"
    }
   ],
   "source": [
    "data.columns"
   ]
  },
  {
   "cell_type": "code",
   "execution_count": 1077,
   "id": "b915cf40",
   "metadata": {},
   "outputs": [],
   "source": [
    "# Defining test size to try with different test sizes\n",
    "testsize = 0.2"
   ]
  },
  {
   "cell_type": "code",
   "execution_count": 1078,
   "id": "b4afa17b",
   "metadata": {},
   "outputs": [],
   "source": [
    "nfd = data[[\"Headline + Synop\",\"Full_text\",\"Final Status\"]]"
   ]
  },
  {
   "cell_type": "code",
   "execution_count": 1079,
   "id": "2fc57647",
   "metadata": {},
   "outputs": [
    {
     "data": {
      "text/html": [
       "<div>\n",
       "<style scoped>\n",
       "    .dataframe tbody tr th:only-of-type {\n",
       "        vertical-align: middle;\n",
       "    }\n",
       "\n",
       "    .dataframe tbody tr th {\n",
       "        vertical-align: top;\n",
       "    }\n",
       "\n",
       "    .dataframe thead th {\n",
       "        text-align: right;\n",
       "    }\n",
       "</style>\n",
       "<table border=\"1\" class=\"dataframe\">\n",
       "  <thead>\n",
       "    <tr style=\"text-align: right;\">\n",
       "      <th></th>\n",
       "      <th>Headline + Synop</th>\n",
       "      <th>Full_text</th>\n",
       "      <th>Final Status</th>\n",
       "    </tr>\n",
       "  </thead>\n",
       "  <tbody>\n",
       "    <tr>\n",
       "      <th>0</th>\n",
       "      <td>India Post Payments Bank introduces issuer cha...</td>\n",
       "      <td>Getty ImagesThe India Post Payments Bank (IPPB...</td>\n",
       "      <td>Positive</td>\n",
       "    </tr>\n",
       "    <tr>\n",
       "      <th>1</th>\n",
       "      <td>RBI directs banks to offer cardless cash withd...</td>\n",
       "      <td>Getty ImagesThe Reserve Bank of India (RBI) ha...</td>\n",
       "      <td>Positive</td>\n",
       "    </tr>\n",
       "  </tbody>\n",
       "</table>\n",
       "</div>"
      ],
      "text/plain": [
       "                                    Headline + Synop  \\\n",
       "0  India Post Payments Bank introduces issuer cha...   \n",
       "1  RBI directs banks to offer cardless cash withd...   \n",
       "\n",
       "                                           Full_text Final Status  \n",
       "0  Getty ImagesThe India Post Payments Bank (IPPB...     Positive  \n",
       "1  Getty ImagesThe Reserve Bank of India (RBI) ha...     Positive  "
      ]
     },
     "execution_count": 1079,
     "metadata": {},
     "output_type": "execute_result"
    }
   ],
   "source": [
    "nfd.head(2)"
   ]
  },
  {
   "cell_type": "code",
   "execution_count": 1080,
   "id": "25a47445",
   "metadata": {},
   "outputs": [
    {
     "data": {
      "text/plain": [
       "Positive    241\n",
       "Negative    159\n",
       "Name: Final Status, dtype: int64"
      ]
     },
     "execution_count": 1080,
     "metadata": {},
     "output_type": "execute_result"
    }
   ],
   "source": [
    "nfd['Final Status'].value_counts()"
   ]
  },
  {
   "cell_type": "code",
   "execution_count": 1081,
   "id": "45f4da70",
   "metadata": {},
   "outputs": [
    {
     "name": "stderr",
     "output_type": "stream",
     "text": [
      "C:\\Users\\sreek\\AppData\\Local\\Temp/ipykernel_5440/1311584812.py:2: SettingWithCopyWarning: \n",
      "A value is trying to be set on a copy of a slice from a DataFrame.\n",
      "Try using .loc[row_indexer,col_indexer] = value instead\n",
      "\n",
      "See the caveats in the documentation: https://pandas.pydata.org/pandas-docs/stable/user_guide/indexing.html#returning-a-view-versus-a-copy\n",
      "  nfd['Final Status']=nfd['Final Status'].apply(lambda x: 1 if  x==\"Positive\" else 0)\n"
     ]
    },
    {
     "data": {
      "text/html": [
       "<div>\n",
       "<style scoped>\n",
       "    .dataframe tbody tr th:only-of-type {\n",
       "        vertical-align: middle;\n",
       "    }\n",
       "\n",
       "    .dataframe tbody tr th {\n",
       "        vertical-align: top;\n",
       "    }\n",
       "\n",
       "    .dataframe thead th {\n",
       "        text-align: right;\n",
       "    }\n",
       "</style>\n",
       "<table border=\"1\" class=\"dataframe\">\n",
       "  <thead>\n",
       "    <tr style=\"text-align: right;\">\n",
       "      <th></th>\n",
       "      <th>Headline + Synop</th>\n",
       "      <th>Full_text</th>\n",
       "      <th>Final Status</th>\n",
       "    </tr>\n",
       "  </thead>\n",
       "  <tbody>\n",
       "    <tr>\n",
       "      <th>0</th>\n",
       "      <td>India Post Payments Bank introduces issuer cha...</td>\n",
       "      <td>Getty ImagesThe India Post Payments Bank (IPPB...</td>\n",
       "      <td>1</td>\n",
       "    </tr>\n",
       "    <tr>\n",
       "      <th>1</th>\n",
       "      <td>RBI directs banks to offer cardless cash withd...</td>\n",
       "      <td>Getty ImagesThe Reserve Bank of India (RBI) ha...</td>\n",
       "      <td>1</td>\n",
       "    </tr>\n",
       "    <tr>\n",
       "      <th>2</th>\n",
       "      <td>Mahindra to explore more partnerships for EV p...</td>\n",
       "      <td>ReutersDavos: India's Mahindra and Mahindra wi...</td>\n",
       "      <td>1</td>\n",
       "    </tr>\n",
       "    <tr>\n",
       "      <th>3</th>\n",
       "      <td>Elon Musk bags $7.1 billion in new financing f...</td>\n",
       "      <td>Elon Musk has secured about $7.1 billion of ne...</td>\n",
       "      <td>1</td>\n",
       "    </tr>\n",
       "    <tr>\n",
       "      <th>4</th>\n",
       "      <td>Hexagon freezes Russian business, books charge...</td>\n",
       "      <td>ETtechStockholm: Measurement technology group ...</td>\n",
       "      <td>0</td>\n",
       "    </tr>\n",
       "  </tbody>\n",
       "</table>\n",
       "</div>"
      ],
      "text/plain": [
       "                                    Headline + Synop  \\\n",
       "0  India Post Payments Bank introduces issuer cha...   \n",
       "1  RBI directs banks to offer cardless cash withd...   \n",
       "2  Mahindra to explore more partnerships for EV p...   \n",
       "3  Elon Musk bags $7.1 billion in new financing f...   \n",
       "4  Hexagon freezes Russian business, books charge...   \n",
       "\n",
       "                                           Full_text  Final Status  \n",
       "0  Getty ImagesThe India Post Payments Bank (IPPB...             1  \n",
       "1  Getty ImagesThe Reserve Bank of India (RBI) ha...             1  \n",
       "2  ReutersDavos: India's Mahindra and Mahindra wi...             1  \n",
       "3  Elon Musk has secured about $7.1 billion of ne...             1  \n",
       "4  ETtechStockholm: Measurement technology group ...             0  "
      ]
     },
     "execution_count": 1081,
     "metadata": {},
     "output_type": "execute_result"
    }
   ],
   "source": [
    "# Label the final status \n",
    "nfd['Final Status']=nfd['Final Status'].apply(lambda x: 1 if  x==\"Positive\" else 0)\n",
    "nfd.head()"
   ]
  },
  {
   "cell_type": "code",
   "execution_count": 1082,
   "id": "c1e37897",
   "metadata": {},
   "outputs": [
    {
     "data": {
      "text/plain": [
       "(400, 3)"
      ]
     },
     "execution_count": 1082,
     "metadata": {},
     "output_type": "execute_result"
    }
   ],
   "source": [
    "nfd.shape"
   ]
  },
  {
   "cell_type": "code",
   "execution_count": 1083,
   "id": "5889adbe",
   "metadata": {},
   "outputs": [
    {
     "data": {
      "text/plain": [
       "1    241\n",
       "0    159\n",
       "Name: Final Status, dtype: int64"
      ]
     },
     "execution_count": 1083,
     "metadata": {},
     "output_type": "execute_result"
    }
   ],
   "source": [
    "nfd['Final Status'].value_counts()"
   ]
  },
  {
   "cell_type": "code",
   "execution_count": 1084,
   "id": "4a5c83e2",
   "metadata": {},
   "outputs": [],
   "source": [
    "# Pre processing : "
   ]
  },
  {
   "cell_type": "code",
   "execution_count": 1085,
   "id": "89196a92",
   "metadata": {},
   "outputs": [],
   "source": [
    "# Importing stopwords from nltk\n",
    "from nltk.corpus import stopwords\n",
    "stopwords = stopwords.words('english')"
   ]
  },
  {
   "cell_type": "code",
   "execution_count": 1086,
   "id": "a234bffe",
   "metadata": {},
   "outputs": [],
   "source": [
    "# Removing some words from the stopwords list as they contain a meaning for our problem statement \n",
    "for i in ['further','over','under','up','down','above','below']:\n",
    "  stopwords.remove(i)"
   ]
  },
  {
   "cell_type": "code",
   "execution_count": 1087,
   "id": "f348d465",
   "metadata": {},
   "outputs": [
    {
     "name": "stderr",
     "output_type": "stream",
     "text": [
      "C:\\Users\\sreek\\AppData\\Local\\Temp/ipykernel_5440/976053868.py:2: SettingWithCopyWarning: \n",
      "A value is trying to be set on a copy of a slice from a DataFrame.\n",
      "Try using .loc[row_indexer,col_indexer] = value instead\n",
      "\n",
      "See the caveats in the documentation: https://pandas.pydata.org/pandas-docs/stable/user_guide/indexing.html#returning-a-view-versus-a-copy\n",
      "  nfd['text_processed']=''\n"
     ]
    }
   ],
   "source": [
    "# An empty column for the preprocessed and marked text which is ready for embedding\n",
    "nfd['text_processed']=''"
   ]
  },
  {
   "cell_type": "code",
   "execution_count": 1088,
   "id": "c70a6bcb",
   "metadata": {},
   "outputs": [],
   "source": [
    "articles=[]\n",
    "for i in range(0,nfd.shape[0]):\n",
    "    articles.append(nfd.iloc[i])"
   ]
  },
  {
   "cell_type": "markdown",
   "id": "27b9944c",
   "metadata": {},
   "source": [
    "## Headline syn work "
   ]
  },
  {
   "cell_type": "code",
   "execution_count": 1089,
   "id": "631f426f",
   "metadata": {},
   "outputs": [
    {
     "name": "stderr",
     "output_type": "stream",
     "text": [
      "C:\\Users\\sreek\\AppData\\Local\\Temp/ipykernel_5440/1917234557.py:2: SettingWithCopyWarning: \n",
      "A value is trying to be set on a copy of a slice from a DataFrame.\n",
      "Try using .loc[row_indexer,col_indexer] = value instead\n",
      "\n",
      "See the caveats in the documentation: https://pandas.pydata.org/pandas-docs/stable/user_guide/indexing.html#returning-a-view-versus-a-copy\n",
      "  nfd['headsyntext_processed']=''\n"
     ]
    }
   ],
   "source": [
    "# An empty column for the preprocessed and marked text which is ready for embedding\n",
    "nfd['headsyntext_processed']=''"
   ]
  },
  {
   "cell_type": "code",
   "execution_count": 1090,
   "id": "19ea9b24",
   "metadata": {},
   "outputs": [],
   "source": [
    "articles=[]\n",
    "for i in range(0,nfd.shape[0]):\n",
    "    articles.append(nfd.iloc[i])"
   ]
  },
  {
   "cell_type": "code",
   "execution_count": 1091,
   "id": "274c9682",
   "metadata": {},
   "outputs": [],
   "source": [
    "# Preprocessing\n",
    "\n",
    "import re\n",
    "import string\n",
    "def preprocess(article):\n",
    "  words = [word for word in str(article['Headline + Synop']).split() if word not in stopwords] # List Comprehension\n",
    "  text = \" \".join(words)\n",
    "  #Remove all the punctuation from the text\n",
    "  text = re.sub(r'[^\\w\\s]', '', text)\n",
    "  #Removes all numericals leaving the alphabets\n",
    "  text = ''.join([i for i in text if not i.isdigit()])\n",
    "  # Removing multiple spaces in the text and replacing them with a single space\n",
    "  text = re.sub(' +', ' ', text)\n",
    "  text = text.lower()\n",
    "  article.headsyntext_processed = text\n",
    "\n",
    "  return (\"Cleaning Done!\")\n"
   ]
  },
  {
   "cell_type": "code",
   "execution_count": 1092,
   "id": "d17c71b4",
   "metadata": {},
   "outputs": [
    {
     "name": "stderr",
     "output_type": "stream",
     "text": [
      "C:\\Users\\sreek\\anaconda3\\lib\\site-packages\\pandas\\core\\series.py:1056: SettingWithCopyWarning: \n",
      "A value is trying to be set on a copy of a slice from a DataFrame\n",
      "\n",
      "See the caveats in the documentation: https://pandas.pydata.org/pandas-docs/stable/user_guide/indexing.html#returning-a-view-versus-a-copy\n",
      "  cacher_needs_updating = self._check_is_chained_assignment_possible()\n"
     ]
    },
    {
     "name": "stdout",
     "output_type": "stream",
     "text": [
      "Done\n",
      "0.0018144633333273912 mins\n"
     ]
    }
   ],
   "source": [
    "import time\n",
    "from timeit import default_timer as timer\n",
    "from joblib import Parallel, delayed\n",
    "\n",
    "start=timer()\n",
    "res = Parallel(\n",
    "    backend='threading',\n",
    "    n_jobs=-1\n",
    ")(delayed(preprocess)(x) for x in articles)\n",
    "print('Done')\n",
    "end=timer()\n",
    "print(((end-start)/60),\"mins\")"
   ]
  },
  {
   "cell_type": "code",
   "execution_count": 1093,
   "id": "8a44f205",
   "metadata": {},
   "outputs": [
    {
     "data": {
      "text/html": [
       "<div>\n",
       "<style scoped>\n",
       "    .dataframe tbody tr th:only-of-type {\n",
       "        vertical-align: middle;\n",
       "    }\n",
       "\n",
       "    .dataframe tbody tr th {\n",
       "        vertical-align: top;\n",
       "    }\n",
       "\n",
       "    .dataframe thead th {\n",
       "        text-align: right;\n",
       "    }\n",
       "</style>\n",
       "<table border=\"1\" class=\"dataframe\">\n",
       "  <thead>\n",
       "    <tr style=\"text-align: right;\">\n",
       "      <th></th>\n",
       "      <th>Headline + Synop</th>\n",
       "      <th>Full_text</th>\n",
       "      <th>Final Status</th>\n",
       "      <th>text_processed</th>\n",
       "      <th>headsyntext_processed</th>\n",
       "    </tr>\n",
       "  </thead>\n",
       "  <tbody>\n",
       "    <tr>\n",
       "      <th>0</th>\n",
       "      <td>India Post Payments Bank introduces issuer cha...</td>\n",
       "      <td>Getty ImagesThe India Post Payments Bank (IPPB...</td>\n",
       "      <td>1</td>\n",
       "      <td></td>\n",
       "      <td>india post payments bank introduces issuer cha...</td>\n",
       "    </tr>\n",
       "    <tr>\n",
       "      <th>1</th>\n",
       "      <td>RBI directs banks to offer cardless cash withd...</td>\n",
       "      <td>Getty ImagesThe Reserve Bank of India (RBI) ha...</td>\n",
       "      <td>1</td>\n",
       "      <td></td>\n",
       "      <td>rbi directs banks offer cardless cash withdraw...</td>\n",
       "    </tr>\n",
       "    <tr>\n",
       "      <th>2</th>\n",
       "      <td>Mahindra to explore more partnerships for EV p...</td>\n",
       "      <td>ReutersDavos: India's Mahindra and Mahindra wi...</td>\n",
       "      <td>1</td>\n",
       "      <td></td>\n",
       "      <td>mahindra explore partnerships ev parts ceo ani...</td>\n",
       "    </tr>\n",
       "    <tr>\n",
       "      <th>3</th>\n",
       "      <td>Elon Musk bags $7.1 billion in new financing f...</td>\n",
       "      <td>Elon Musk has secured about $7.1 billion of ne...</td>\n",
       "      <td>1</td>\n",
       "      <td></td>\n",
       "      <td>elon musk bags billion new financing twitter o...</td>\n",
       "    </tr>\n",
       "    <tr>\n",
       "      <th>4</th>\n",
       "      <td>Hexagon freezes Russian business, books charge...</td>\n",
       "      <td>ETtechStockholm: Measurement technology group ...</td>\n",
       "      <td>0</td>\n",
       "      <td></td>\n",
       "      <td>hexagon freezes russian business books charge ...</td>\n",
       "    </tr>\n",
       "  </tbody>\n",
       "</table>\n",
       "</div>"
      ],
      "text/plain": [
       "                                    Headline + Synop  \\\n",
       "0  India Post Payments Bank introduces issuer cha...   \n",
       "1  RBI directs banks to offer cardless cash withd...   \n",
       "2  Mahindra to explore more partnerships for EV p...   \n",
       "3  Elon Musk bags $7.1 billion in new financing f...   \n",
       "4  Hexagon freezes Russian business, books charge...   \n",
       "\n",
       "                                           Full_text  Final Status  \\\n",
       "0  Getty ImagesThe India Post Payments Bank (IPPB...             1   \n",
       "1  Getty ImagesThe Reserve Bank of India (RBI) ha...             1   \n",
       "2  ReutersDavos: India's Mahindra and Mahindra wi...             1   \n",
       "3  Elon Musk has secured about $7.1 billion of ne...             1   \n",
       "4  ETtechStockholm: Measurement technology group ...             0   \n",
       "\n",
       "  text_processed                              headsyntext_processed  \n",
       "0                 india post payments bank introduces issuer cha...  \n",
       "1                 rbi directs banks offer cardless cash withdraw...  \n",
       "2                 mahindra explore partnerships ev parts ceo ani...  \n",
       "3                 elon musk bags billion new financing twitter o...  \n",
       "4                 hexagon freezes russian business books charge ...  "
      ]
     },
     "execution_count": 1093,
     "metadata": {},
     "output_type": "execute_result"
    }
   ],
   "source": [
    "df = pd.DataFrame(articles)\n",
    "df.head()"
   ]
  },
  {
   "cell_type": "code",
   "execution_count": 1094,
   "id": "be2578d3",
   "metadata": {},
   "outputs": [],
   "source": [
    "from sklearn.model_selection import train_test_split\n",
    "\n",
    "X = df['headsyntext_processed']\n",
    "y =df['Final Status']\n",
    "\n",
    "X_train, X_test, y_train, y_test = train_test_split(X, y,test_size=testsize, random_state=42)"
   ]
  },
  {
   "cell_type": "code",
   "execution_count": 1095,
   "id": "2639fdc9",
   "metadata": {},
   "outputs": [],
   "source": [
    "from sklearn.pipeline import Pipeline\n",
    "from sklearn.feature_extraction.text import TfidfVectorizer\n",
    "from sklearn.naive_bayes import MultinomialNB\n",
    "from sklearn.linear_model import LogisticRegression\n",
    "from sklearn.tree import DecisionTreeClassifier\n",
    "from sklearn import metrics\n",
    "# Naïve Bayes:\n",
    "text_clf_nb = Pipeline([('tfidf', TfidfVectorizer()),\n",
    "                     ('clf', MultinomialNB()),\n",
    "])\n",
    "\n",
    "\n",
    "\n",
    "#Decision Tree \n",
    "text_clf_DT = Pipeline([('tfidf', TfidfVectorizer()),\n",
    "                     ('clf', DecisionTreeClassifier(max_depth = 3)),\n",
    "])"
   ]
  },
  {
   "cell_type": "code",
   "execution_count": 1096,
   "id": "682c9868",
   "metadata": {},
   "outputs": [
    {
     "data": {
      "text/html": [
       "<style>#sk-container-id-117 {color: black;background-color: white;}#sk-container-id-117 pre{padding: 0;}#sk-container-id-117 div.sk-toggleable {background-color: white;}#sk-container-id-117 label.sk-toggleable__label {cursor: pointer;display: block;width: 100%;margin-bottom: 0;padding: 0.3em;box-sizing: border-box;text-align: center;}#sk-container-id-117 label.sk-toggleable__label-arrow:before {content: \"▸\";float: left;margin-right: 0.25em;color: #696969;}#sk-container-id-117 label.sk-toggleable__label-arrow:hover:before {color: black;}#sk-container-id-117 div.sk-estimator:hover label.sk-toggleable__label-arrow:before {color: black;}#sk-container-id-117 div.sk-toggleable__content {max-height: 0;max-width: 0;overflow: hidden;text-align: left;background-color: #f0f8ff;}#sk-container-id-117 div.sk-toggleable__content pre {margin: 0.2em;color: black;border-radius: 0.25em;background-color: #f0f8ff;}#sk-container-id-117 input.sk-toggleable__control:checked~div.sk-toggleable__content {max-height: 200px;max-width: 100%;overflow: auto;}#sk-container-id-117 input.sk-toggleable__control:checked~label.sk-toggleable__label-arrow:before {content: \"▾\";}#sk-container-id-117 div.sk-estimator input.sk-toggleable__control:checked~label.sk-toggleable__label {background-color: #d4ebff;}#sk-container-id-117 div.sk-label input.sk-toggleable__control:checked~label.sk-toggleable__label {background-color: #d4ebff;}#sk-container-id-117 input.sk-hidden--visually {border: 0;clip: rect(1px 1px 1px 1px);clip: rect(1px, 1px, 1px, 1px);height: 1px;margin: -1px;overflow: hidden;padding: 0;position: absolute;width: 1px;}#sk-container-id-117 div.sk-estimator {font-family: monospace;background-color: #f0f8ff;border: 1px dotted black;border-radius: 0.25em;box-sizing: border-box;margin-bottom: 0.5em;}#sk-container-id-117 div.sk-estimator:hover {background-color: #d4ebff;}#sk-container-id-117 div.sk-parallel-item::after {content: \"\";width: 100%;border-bottom: 1px solid gray;flex-grow: 1;}#sk-container-id-117 div.sk-label:hover label.sk-toggleable__label {background-color: #d4ebff;}#sk-container-id-117 div.sk-serial::before {content: \"\";position: absolute;border-left: 1px solid gray;box-sizing: border-box;top: 0;bottom: 0;left: 50%;z-index: 0;}#sk-container-id-117 div.sk-serial {display: flex;flex-direction: column;align-items: center;background-color: white;padding-right: 0.2em;padding-left: 0.2em;position: relative;}#sk-container-id-117 div.sk-item {position: relative;z-index: 1;}#sk-container-id-117 div.sk-parallel {display: flex;align-items: stretch;justify-content: center;background-color: white;position: relative;}#sk-container-id-117 div.sk-item::before, #sk-container-id-117 div.sk-parallel-item::before {content: \"\";position: absolute;border-left: 1px solid gray;box-sizing: border-box;top: 0;bottom: 0;left: 50%;z-index: -1;}#sk-container-id-117 div.sk-parallel-item {display: flex;flex-direction: column;z-index: 1;position: relative;background-color: white;}#sk-container-id-117 div.sk-parallel-item:first-child::after {align-self: flex-end;width: 50%;}#sk-container-id-117 div.sk-parallel-item:last-child::after {align-self: flex-start;width: 50%;}#sk-container-id-117 div.sk-parallel-item:only-child::after {width: 0;}#sk-container-id-117 div.sk-dashed-wrapped {border: 1px dashed gray;margin: 0 0.4em 0.5em 0.4em;box-sizing: border-box;padding-bottom: 0.4em;background-color: white;}#sk-container-id-117 div.sk-label label {font-family: monospace;font-weight: bold;display: inline-block;line-height: 1.2em;}#sk-container-id-117 div.sk-label-container {text-align: center;}#sk-container-id-117 div.sk-container {/* jupyter's `normalize.less` sets `[hidden] { display: none; }` but bootstrap.min.css set `[hidden] { display: none !important; }` so we also need the `!important` here to be able to override the default hidden behavior on the sphinx rendered scikit-learn.org. See: https://github.com/scikit-learn/scikit-learn/issues/21755 */display: inline-block !important;position: relative;}#sk-container-id-117 div.sk-text-repr-fallback {display: none;}</style><div id=\"sk-container-id-117\" class=\"sk-top-container\"><div class=\"sk-text-repr-fallback\"><pre>Pipeline(steps=[(&#x27;tfidf&#x27;, TfidfVectorizer()), (&#x27;clf&#x27;, MultinomialNB())])</pre><b>In a Jupyter environment, please rerun this cell to show the HTML representation or trust the notebook. <br />On GitHub, the HTML representation is unable to render, please try loading this page with nbviewer.org.</b></div><div class=\"sk-container\" hidden><div class=\"sk-item sk-dashed-wrapped\"><div class=\"sk-label-container\"><div class=\"sk-label sk-toggleable\"><input class=\"sk-toggleable__control sk-hidden--visually\" id=\"sk-estimator-id-349\" type=\"checkbox\" ><label for=\"sk-estimator-id-349\" class=\"sk-toggleable__label sk-toggleable__label-arrow\">Pipeline</label><div class=\"sk-toggleable__content\"><pre>Pipeline(steps=[(&#x27;tfidf&#x27;, TfidfVectorizer()), (&#x27;clf&#x27;, MultinomialNB())])</pre></div></div></div><div class=\"sk-serial\"><div class=\"sk-item\"><div class=\"sk-estimator sk-toggleable\"><input class=\"sk-toggleable__control sk-hidden--visually\" id=\"sk-estimator-id-350\" type=\"checkbox\" ><label for=\"sk-estimator-id-350\" class=\"sk-toggleable__label sk-toggleable__label-arrow\">TfidfVectorizer</label><div class=\"sk-toggleable__content\"><pre>TfidfVectorizer()</pre></div></div></div><div class=\"sk-item\"><div class=\"sk-estimator sk-toggleable\"><input class=\"sk-toggleable__control sk-hidden--visually\" id=\"sk-estimator-id-351\" type=\"checkbox\" ><label for=\"sk-estimator-id-351\" class=\"sk-toggleable__label sk-toggleable__label-arrow\">MultinomialNB</label><div class=\"sk-toggleable__content\"><pre>MultinomialNB()</pre></div></div></div></div></div></div></div>"
      ],
      "text/plain": [
       "Pipeline(steps=[('tfidf', TfidfVectorizer()), ('clf', MultinomialNB())])"
      ]
     },
     "execution_count": 1096,
     "metadata": {},
     "output_type": "execute_result"
    }
   ],
   "source": [
    "text_clf_nb.fit(X_train, y_train)"
   ]
  },
  {
   "cell_type": "code",
   "execution_count": 1097,
   "id": "5af4b216",
   "metadata": {},
   "outputs": [],
   "source": [
    "# Form a prediction set\n",
    "predictions = text_clf_nb.predict(X_test)"
   ]
  },
  {
   "cell_type": "code",
   "execution_count": 1098,
   "id": "6cfadd30",
   "metadata": {},
   "outputs": [
    {
     "name": "stdout",
     "output_type": "stream",
     "text": [
      "Naive Bayes:\n",
      "\n",
      "\n",
      "              precision    recall  f1-score   support\n",
      "\n",
      "           0       0.67      0.05      0.10        39\n",
      "           1       0.52      0.98      0.68        41\n",
      "\n",
      "    accuracy                           0.53        80\n",
      "   macro avg       0.59      0.51      0.39        80\n",
      "weighted avg       0.59      0.53      0.39        80\n",
      "\n"
     ]
    }
   ],
   "source": [
    "# Print a classification report\n",
    "print(\"Naive Bayes:\")\n",
    "print(\"\\n\")\n",
    "print(metrics.classification_report(y_test,predictions))"
   ]
  },
  {
   "cell_type": "code",
   "execution_count": 1099,
   "id": "cb6e6e81",
   "metadata": {},
   "outputs": [
    {
     "data": {
      "text/html": [
       "<style>#sk-container-id-118 {color: black;background-color: white;}#sk-container-id-118 pre{padding: 0;}#sk-container-id-118 div.sk-toggleable {background-color: white;}#sk-container-id-118 label.sk-toggleable__label {cursor: pointer;display: block;width: 100%;margin-bottom: 0;padding: 0.3em;box-sizing: border-box;text-align: center;}#sk-container-id-118 label.sk-toggleable__label-arrow:before {content: \"▸\";float: left;margin-right: 0.25em;color: #696969;}#sk-container-id-118 label.sk-toggleable__label-arrow:hover:before {color: black;}#sk-container-id-118 div.sk-estimator:hover label.sk-toggleable__label-arrow:before {color: black;}#sk-container-id-118 div.sk-toggleable__content {max-height: 0;max-width: 0;overflow: hidden;text-align: left;background-color: #f0f8ff;}#sk-container-id-118 div.sk-toggleable__content pre {margin: 0.2em;color: black;border-radius: 0.25em;background-color: #f0f8ff;}#sk-container-id-118 input.sk-toggleable__control:checked~div.sk-toggleable__content {max-height: 200px;max-width: 100%;overflow: auto;}#sk-container-id-118 input.sk-toggleable__control:checked~label.sk-toggleable__label-arrow:before {content: \"▾\";}#sk-container-id-118 div.sk-estimator input.sk-toggleable__control:checked~label.sk-toggleable__label {background-color: #d4ebff;}#sk-container-id-118 div.sk-label input.sk-toggleable__control:checked~label.sk-toggleable__label {background-color: #d4ebff;}#sk-container-id-118 input.sk-hidden--visually {border: 0;clip: rect(1px 1px 1px 1px);clip: rect(1px, 1px, 1px, 1px);height: 1px;margin: -1px;overflow: hidden;padding: 0;position: absolute;width: 1px;}#sk-container-id-118 div.sk-estimator {font-family: monospace;background-color: #f0f8ff;border: 1px dotted black;border-radius: 0.25em;box-sizing: border-box;margin-bottom: 0.5em;}#sk-container-id-118 div.sk-estimator:hover {background-color: #d4ebff;}#sk-container-id-118 div.sk-parallel-item::after {content: \"\";width: 100%;border-bottom: 1px solid gray;flex-grow: 1;}#sk-container-id-118 div.sk-label:hover label.sk-toggleable__label {background-color: #d4ebff;}#sk-container-id-118 div.sk-serial::before {content: \"\";position: absolute;border-left: 1px solid gray;box-sizing: border-box;top: 0;bottom: 0;left: 50%;z-index: 0;}#sk-container-id-118 div.sk-serial {display: flex;flex-direction: column;align-items: center;background-color: white;padding-right: 0.2em;padding-left: 0.2em;position: relative;}#sk-container-id-118 div.sk-item {position: relative;z-index: 1;}#sk-container-id-118 div.sk-parallel {display: flex;align-items: stretch;justify-content: center;background-color: white;position: relative;}#sk-container-id-118 div.sk-item::before, #sk-container-id-118 div.sk-parallel-item::before {content: \"\";position: absolute;border-left: 1px solid gray;box-sizing: border-box;top: 0;bottom: 0;left: 50%;z-index: -1;}#sk-container-id-118 div.sk-parallel-item {display: flex;flex-direction: column;z-index: 1;position: relative;background-color: white;}#sk-container-id-118 div.sk-parallel-item:first-child::after {align-self: flex-end;width: 50%;}#sk-container-id-118 div.sk-parallel-item:last-child::after {align-self: flex-start;width: 50%;}#sk-container-id-118 div.sk-parallel-item:only-child::after {width: 0;}#sk-container-id-118 div.sk-dashed-wrapped {border: 1px dashed gray;margin: 0 0.4em 0.5em 0.4em;box-sizing: border-box;padding-bottom: 0.4em;background-color: white;}#sk-container-id-118 div.sk-label label {font-family: monospace;font-weight: bold;display: inline-block;line-height: 1.2em;}#sk-container-id-118 div.sk-label-container {text-align: center;}#sk-container-id-118 div.sk-container {/* jupyter's `normalize.less` sets `[hidden] { display: none; }` but bootstrap.min.css set `[hidden] { display: none !important; }` so we also need the `!important` here to be able to override the default hidden behavior on the sphinx rendered scikit-learn.org. See: https://github.com/scikit-learn/scikit-learn/issues/21755 */display: inline-block !important;position: relative;}#sk-container-id-118 div.sk-text-repr-fallback {display: none;}</style><div id=\"sk-container-id-118\" class=\"sk-top-container\"><div class=\"sk-text-repr-fallback\"><pre>Pipeline(steps=[(&#x27;tfidf&#x27;, TfidfVectorizer()),\n",
       "                (&#x27;clf&#x27;, DecisionTreeClassifier(max_depth=3))])</pre><b>In a Jupyter environment, please rerun this cell to show the HTML representation or trust the notebook. <br />On GitHub, the HTML representation is unable to render, please try loading this page with nbviewer.org.</b></div><div class=\"sk-container\" hidden><div class=\"sk-item sk-dashed-wrapped\"><div class=\"sk-label-container\"><div class=\"sk-label sk-toggleable\"><input class=\"sk-toggleable__control sk-hidden--visually\" id=\"sk-estimator-id-352\" type=\"checkbox\" ><label for=\"sk-estimator-id-352\" class=\"sk-toggleable__label sk-toggleable__label-arrow\">Pipeline</label><div class=\"sk-toggleable__content\"><pre>Pipeline(steps=[(&#x27;tfidf&#x27;, TfidfVectorizer()),\n",
       "                (&#x27;clf&#x27;, DecisionTreeClassifier(max_depth=3))])</pre></div></div></div><div class=\"sk-serial\"><div class=\"sk-item\"><div class=\"sk-estimator sk-toggleable\"><input class=\"sk-toggleable__control sk-hidden--visually\" id=\"sk-estimator-id-353\" type=\"checkbox\" ><label for=\"sk-estimator-id-353\" class=\"sk-toggleable__label sk-toggleable__label-arrow\">TfidfVectorizer</label><div class=\"sk-toggleable__content\"><pre>TfidfVectorizer()</pre></div></div></div><div class=\"sk-item\"><div class=\"sk-estimator sk-toggleable\"><input class=\"sk-toggleable__control sk-hidden--visually\" id=\"sk-estimator-id-354\" type=\"checkbox\" ><label for=\"sk-estimator-id-354\" class=\"sk-toggleable__label sk-toggleable__label-arrow\">DecisionTreeClassifier</label><div class=\"sk-toggleable__content\"><pre>DecisionTreeClassifier(max_depth=3)</pre></div></div></div></div></div></div></div>"
      ],
      "text/plain": [
       "Pipeline(steps=[('tfidf', TfidfVectorizer()),\n",
       "                ('clf', DecisionTreeClassifier(max_depth=3))])"
      ]
     },
     "execution_count": 1099,
     "metadata": {},
     "output_type": "execute_result"
    }
   ],
   "source": [
    "text_clf_DT.fit(X_train, y_train)"
   ]
  },
  {
   "cell_type": "code",
   "execution_count": 1100,
   "id": "4205b35a",
   "metadata": {},
   "outputs": [
    {
     "data": {
      "text/plain": [
       "0.684375"
      ]
     },
     "execution_count": 1100,
     "metadata": {},
     "output_type": "execute_result"
    }
   ],
   "source": [
    "text_clf_DT.score(X_train, y_train)"
   ]
  },
  {
   "cell_type": "code",
   "execution_count": 1101,
   "id": "903f77e5",
   "metadata": {},
   "outputs": [],
   "source": [
    "# Form a prediction set\n",
    "predictions = text_clf_DT.predict(X_test)"
   ]
  },
  {
   "cell_type": "code",
   "execution_count": 1102,
   "id": "0ac5569b",
   "metadata": {},
   "outputs": [
    {
     "name": "stdout",
     "output_type": "stream",
     "text": [
      "Decision Tree:\n",
      "\n",
      "\n",
      "              precision    recall  f1-score   support\n",
      "\n",
      "           0       0.67      0.36      0.47        39\n",
      "           1       0.58      0.83      0.68        41\n",
      "\n",
      "    accuracy                           0.60        80\n",
      "   macro avg       0.62      0.59      0.57        80\n",
      "weighted avg       0.62      0.60      0.58        80\n",
      "\n"
     ]
    }
   ],
   "source": [
    "# Print a classification report\n",
    "print(\"Decision Tree:\")\n",
    "print(\"\\n\")\n",
    "print(metrics.classification_report(y_test,predictions))"
   ]
  },
  {
   "cell_type": "code",
   "execution_count": 1103,
   "id": "5bf893fb",
   "metadata": {},
   "outputs": [],
   "source": [
    "# importing random forest classifier from assemble module\n",
    "from sklearn.ensemble import RandomForestClassifier"
   ]
  },
  {
   "cell_type": "code",
   "execution_count": 1104,
   "id": "e3b594af",
   "metadata": {},
   "outputs": [],
   "source": [
    "text_clf_rf = Pipeline([('tfidf', TfidfVectorizer()),\n",
    "                     ('clf', RandomForestClassifier(max_depth = 5)),\n",
    "])\n"
   ]
  },
  {
   "cell_type": "code",
   "execution_count": 1105,
   "id": "f50c35a2",
   "metadata": {},
   "outputs": [
    {
     "data": {
      "text/html": [
       "<style>#sk-container-id-119 {color: black;background-color: white;}#sk-container-id-119 pre{padding: 0;}#sk-container-id-119 div.sk-toggleable {background-color: white;}#sk-container-id-119 label.sk-toggleable__label {cursor: pointer;display: block;width: 100%;margin-bottom: 0;padding: 0.3em;box-sizing: border-box;text-align: center;}#sk-container-id-119 label.sk-toggleable__label-arrow:before {content: \"▸\";float: left;margin-right: 0.25em;color: #696969;}#sk-container-id-119 label.sk-toggleable__label-arrow:hover:before {color: black;}#sk-container-id-119 div.sk-estimator:hover label.sk-toggleable__label-arrow:before {color: black;}#sk-container-id-119 div.sk-toggleable__content {max-height: 0;max-width: 0;overflow: hidden;text-align: left;background-color: #f0f8ff;}#sk-container-id-119 div.sk-toggleable__content pre {margin: 0.2em;color: black;border-radius: 0.25em;background-color: #f0f8ff;}#sk-container-id-119 input.sk-toggleable__control:checked~div.sk-toggleable__content {max-height: 200px;max-width: 100%;overflow: auto;}#sk-container-id-119 input.sk-toggleable__control:checked~label.sk-toggleable__label-arrow:before {content: \"▾\";}#sk-container-id-119 div.sk-estimator input.sk-toggleable__control:checked~label.sk-toggleable__label {background-color: #d4ebff;}#sk-container-id-119 div.sk-label input.sk-toggleable__control:checked~label.sk-toggleable__label {background-color: #d4ebff;}#sk-container-id-119 input.sk-hidden--visually {border: 0;clip: rect(1px 1px 1px 1px);clip: rect(1px, 1px, 1px, 1px);height: 1px;margin: -1px;overflow: hidden;padding: 0;position: absolute;width: 1px;}#sk-container-id-119 div.sk-estimator {font-family: monospace;background-color: #f0f8ff;border: 1px dotted black;border-radius: 0.25em;box-sizing: border-box;margin-bottom: 0.5em;}#sk-container-id-119 div.sk-estimator:hover {background-color: #d4ebff;}#sk-container-id-119 div.sk-parallel-item::after {content: \"\";width: 100%;border-bottom: 1px solid gray;flex-grow: 1;}#sk-container-id-119 div.sk-label:hover label.sk-toggleable__label {background-color: #d4ebff;}#sk-container-id-119 div.sk-serial::before {content: \"\";position: absolute;border-left: 1px solid gray;box-sizing: border-box;top: 0;bottom: 0;left: 50%;z-index: 0;}#sk-container-id-119 div.sk-serial {display: flex;flex-direction: column;align-items: center;background-color: white;padding-right: 0.2em;padding-left: 0.2em;position: relative;}#sk-container-id-119 div.sk-item {position: relative;z-index: 1;}#sk-container-id-119 div.sk-parallel {display: flex;align-items: stretch;justify-content: center;background-color: white;position: relative;}#sk-container-id-119 div.sk-item::before, #sk-container-id-119 div.sk-parallel-item::before {content: \"\";position: absolute;border-left: 1px solid gray;box-sizing: border-box;top: 0;bottom: 0;left: 50%;z-index: -1;}#sk-container-id-119 div.sk-parallel-item {display: flex;flex-direction: column;z-index: 1;position: relative;background-color: white;}#sk-container-id-119 div.sk-parallel-item:first-child::after {align-self: flex-end;width: 50%;}#sk-container-id-119 div.sk-parallel-item:last-child::after {align-self: flex-start;width: 50%;}#sk-container-id-119 div.sk-parallel-item:only-child::after {width: 0;}#sk-container-id-119 div.sk-dashed-wrapped {border: 1px dashed gray;margin: 0 0.4em 0.5em 0.4em;box-sizing: border-box;padding-bottom: 0.4em;background-color: white;}#sk-container-id-119 div.sk-label label {font-family: monospace;font-weight: bold;display: inline-block;line-height: 1.2em;}#sk-container-id-119 div.sk-label-container {text-align: center;}#sk-container-id-119 div.sk-container {/* jupyter's `normalize.less` sets `[hidden] { display: none; }` but bootstrap.min.css set `[hidden] { display: none !important; }` so we also need the `!important` here to be able to override the default hidden behavior on the sphinx rendered scikit-learn.org. See: https://github.com/scikit-learn/scikit-learn/issues/21755 */display: inline-block !important;position: relative;}#sk-container-id-119 div.sk-text-repr-fallback {display: none;}</style><div id=\"sk-container-id-119\" class=\"sk-top-container\"><div class=\"sk-text-repr-fallback\"><pre>Pipeline(steps=[(&#x27;tfidf&#x27;, TfidfVectorizer()),\n",
       "                (&#x27;clf&#x27;, RandomForestClassifier(max_depth=5))])</pre><b>In a Jupyter environment, please rerun this cell to show the HTML representation or trust the notebook. <br />On GitHub, the HTML representation is unable to render, please try loading this page with nbviewer.org.</b></div><div class=\"sk-container\" hidden><div class=\"sk-item sk-dashed-wrapped\"><div class=\"sk-label-container\"><div class=\"sk-label sk-toggleable\"><input class=\"sk-toggleable__control sk-hidden--visually\" id=\"sk-estimator-id-355\" type=\"checkbox\" ><label for=\"sk-estimator-id-355\" class=\"sk-toggleable__label sk-toggleable__label-arrow\">Pipeline</label><div class=\"sk-toggleable__content\"><pre>Pipeline(steps=[(&#x27;tfidf&#x27;, TfidfVectorizer()),\n",
       "                (&#x27;clf&#x27;, RandomForestClassifier(max_depth=5))])</pre></div></div></div><div class=\"sk-serial\"><div class=\"sk-item\"><div class=\"sk-estimator sk-toggleable\"><input class=\"sk-toggleable__control sk-hidden--visually\" id=\"sk-estimator-id-356\" type=\"checkbox\" ><label for=\"sk-estimator-id-356\" class=\"sk-toggleable__label sk-toggleable__label-arrow\">TfidfVectorizer</label><div class=\"sk-toggleable__content\"><pre>TfidfVectorizer()</pre></div></div></div><div class=\"sk-item\"><div class=\"sk-estimator sk-toggleable\"><input class=\"sk-toggleable__control sk-hidden--visually\" id=\"sk-estimator-id-357\" type=\"checkbox\" ><label for=\"sk-estimator-id-357\" class=\"sk-toggleable__label sk-toggleable__label-arrow\">RandomForestClassifier</label><div class=\"sk-toggleable__content\"><pre>RandomForestClassifier(max_depth=5)</pre></div></div></div></div></div></div></div>"
      ],
      "text/plain": [
       "Pipeline(steps=[('tfidf', TfidfVectorizer()),\n",
       "                ('clf', RandomForestClassifier(max_depth=5))])"
      ]
     },
     "execution_count": 1105,
     "metadata": {},
     "output_type": "execute_result"
    }
   ],
   "source": [
    "text_clf_rf.fit(X_train, y_train)"
   ]
  },
  {
   "cell_type": "code",
   "execution_count": 1106,
   "id": "c38dbaca",
   "metadata": {},
   "outputs": [
    {
     "data": {
      "text/plain": [
       "0.63125"
      ]
     },
     "execution_count": 1106,
     "metadata": {},
     "output_type": "execute_result"
    }
   ],
   "source": [
    "text_clf_rf.score(X_train, y_train)"
   ]
  },
  {
   "cell_type": "code",
   "execution_count": 1107,
   "id": "3646060a",
   "metadata": {},
   "outputs": [
    {
     "data": {
      "text/plain": [
       "0.5125"
      ]
     },
     "execution_count": 1107,
     "metadata": {},
     "output_type": "execute_result"
    }
   ],
   "source": [
    "text_clf_rf.score(X_test, y_test)"
   ]
  },
  {
   "cell_type": "markdown",
   "id": "94a5424c",
   "metadata": {},
   "source": [
    "## Full Text continued"
   ]
  },
  {
   "cell_type": "code",
   "execution_count": 1108,
   "id": "c73013b9",
   "metadata": {},
   "outputs": [],
   "source": [
    "# Preprocessing\n",
    "\n",
    "import re\n",
    "import string\n",
    "def preprocess(article):\n",
    "  words = [word for word in str(article['Full_text']).split() if word not in stopwords] # List Comprehension\n",
    "  text = \" \".join(words)\n",
    "  #Remove all the punctuation from the text\n",
    "  text = re.sub(r'[^\\w\\s]', '', text)\n",
    "  #Removes all numericals leaving the alphabets\n",
    "  text = ''.join([i for i in text if not i.isdigit()])\n",
    "  # Removing multiple spaces in the text and replacing them with a single space\n",
    "  text = re.sub(' +', ' ', text)\n",
    "  text = text.lower()\n",
    "  article.text_processed = text\n",
    "\n",
    "  return (\"Cleaning Done!\")\n"
   ]
  },
  {
   "cell_type": "code",
   "execution_count": 1109,
   "id": "2cb817ce",
   "metadata": {},
   "outputs": [
    {
     "name": "stderr",
     "output_type": "stream",
     "text": [
      "C:\\Users\\sreek\\anaconda3\\lib\\site-packages\\pandas\\core\\series.py:1056: SettingWithCopyWarning: \n",
      "A value is trying to be set on a copy of a slice from a DataFrame\n",
      "\n",
      "See the caveats in the documentation: https://pandas.pydata.org/pandas-docs/stable/user_guide/indexing.html#returning-a-view-versus-a-copy\n",
      "  cacher_needs_updating = self._check_is_chained_assignment_possible()\n"
     ]
    },
    {
     "name": "stdout",
     "output_type": "stream",
     "text": [
      "Done\n",
      "0.008216404999984661 mins\n"
     ]
    }
   ],
   "source": [
    "import time\n",
    "from timeit import default_timer as timer\n",
    "from joblib import Parallel, delayed\n",
    "\n",
    "start=timer()\n",
    "res = Parallel(\n",
    "    backend='threading',\n",
    "    n_jobs=-1\n",
    ")(delayed(preprocess)(x) for x in articles)\n",
    "print('Done')\n",
    "end=timer()\n",
    "print(((end-start)/60),\"mins\")"
   ]
  },
  {
   "cell_type": "code",
   "execution_count": 1110,
   "id": "9858629a",
   "metadata": {},
   "outputs": [
    {
     "data": {
      "text/html": [
       "<div>\n",
       "<style scoped>\n",
       "    .dataframe tbody tr th:only-of-type {\n",
       "        vertical-align: middle;\n",
       "    }\n",
       "\n",
       "    .dataframe tbody tr th {\n",
       "        vertical-align: top;\n",
       "    }\n",
       "\n",
       "    .dataframe thead th {\n",
       "        text-align: right;\n",
       "    }\n",
       "</style>\n",
       "<table border=\"1\" class=\"dataframe\">\n",
       "  <thead>\n",
       "    <tr style=\"text-align: right;\">\n",
       "      <th></th>\n",
       "      <th>Headline + Synop</th>\n",
       "      <th>Full_text</th>\n",
       "      <th>Final Status</th>\n",
       "      <th>text_processed</th>\n",
       "      <th>headsyntext_processed</th>\n",
       "    </tr>\n",
       "  </thead>\n",
       "  <tbody>\n",
       "    <tr>\n",
       "      <th>0</th>\n",
       "      <td>India Post Payments Bank introduces issuer cha...</td>\n",
       "      <td>Getty ImagesThe India Post Payments Bank (IPPB...</td>\n",
       "      <td>1</td>\n",
       "      <td>getty imagesthe india post payments bank ippb ...</td>\n",
       "      <td>india post payments bank introduces issuer cha...</td>\n",
       "    </tr>\n",
       "    <tr>\n",
       "      <th>1</th>\n",
       "      <td>RBI directs banks to offer cardless cash withd...</td>\n",
       "      <td>Getty ImagesThe Reserve Bank of India (RBI) ha...</td>\n",
       "      <td>1</td>\n",
       "      <td>getty imagesthe reserve bank india rbi asked b...</td>\n",
       "      <td>rbi directs banks offer cardless cash withdraw...</td>\n",
       "    </tr>\n",
       "    <tr>\n",
       "      <th>2</th>\n",
       "      <td>Mahindra to explore more partnerships for EV p...</td>\n",
       "      <td>ReutersDavos: India's Mahindra and Mahindra wi...</td>\n",
       "      <td>1</td>\n",
       "      <td>reutersdavos indias mahindra mahindra explore ...</td>\n",
       "      <td>mahindra explore partnerships ev parts ceo ani...</td>\n",
       "    </tr>\n",
       "    <tr>\n",
       "      <th>3</th>\n",
       "      <td>Elon Musk bags $7.1 billion in new financing f...</td>\n",
       "      <td>Elon Musk has secured about $7.1 billion of ne...</td>\n",
       "      <td>1</td>\n",
       "      <td>elon musk secured billion new financing commit...</td>\n",
       "      <td>elon musk bags billion new financing twitter o...</td>\n",
       "    </tr>\n",
       "    <tr>\n",
       "      <th>4</th>\n",
       "      <td>Hexagon freezes Russian business, books charge...</td>\n",
       "      <td>ETtechStockholm: Measurement technology group ...</td>\n",
       "      <td>0</td>\n",
       "      <td>ettechstockholm measurement technology group h...</td>\n",
       "      <td>hexagon freezes russian business books charge ...</td>\n",
       "    </tr>\n",
       "  </tbody>\n",
       "</table>\n",
       "</div>"
      ],
      "text/plain": [
       "                                    Headline + Synop  \\\n",
       "0  India Post Payments Bank introduces issuer cha...   \n",
       "1  RBI directs banks to offer cardless cash withd...   \n",
       "2  Mahindra to explore more partnerships for EV p...   \n",
       "3  Elon Musk bags $7.1 billion in new financing f...   \n",
       "4  Hexagon freezes Russian business, books charge...   \n",
       "\n",
       "                                           Full_text  Final Status  \\\n",
       "0  Getty ImagesThe India Post Payments Bank (IPPB...             1   \n",
       "1  Getty ImagesThe Reserve Bank of India (RBI) ha...             1   \n",
       "2  ReutersDavos: India's Mahindra and Mahindra wi...             1   \n",
       "3  Elon Musk has secured about $7.1 billion of ne...             1   \n",
       "4  ETtechStockholm: Measurement technology group ...             0   \n",
       "\n",
       "                                      text_processed  \\\n",
       "0  getty imagesthe india post payments bank ippb ...   \n",
       "1  getty imagesthe reserve bank india rbi asked b...   \n",
       "2  reutersdavos indias mahindra mahindra explore ...   \n",
       "3  elon musk secured billion new financing commit...   \n",
       "4  ettechstockholm measurement technology group h...   \n",
       "\n",
       "                               headsyntext_processed  \n",
       "0  india post payments bank introduces issuer cha...  \n",
       "1  rbi directs banks offer cardless cash withdraw...  \n",
       "2  mahindra explore partnerships ev parts ceo ani...  \n",
       "3  elon musk bags billion new financing twitter o...  \n",
       "4  hexagon freezes russian business books charge ...  "
      ]
     },
     "execution_count": 1110,
     "metadata": {},
     "output_type": "execute_result"
    }
   ],
   "source": [
    "df = pd.DataFrame(articles)\n",
    "df.head()"
   ]
  },
  {
   "cell_type": "code",
   "execution_count": 1111,
   "id": "2ee138d3",
   "metadata": {},
   "outputs": [
    {
     "data": {
      "text/html": [
       "<div>\n",
       "<style scoped>\n",
       "    .dataframe tbody tr th:only-of-type {\n",
       "        vertical-align: middle;\n",
       "    }\n",
       "\n",
       "    .dataframe tbody tr th {\n",
       "        vertical-align: top;\n",
       "    }\n",
       "\n",
       "    .dataframe thead th {\n",
       "        text-align: right;\n",
       "    }\n",
       "</style>\n",
       "<table border=\"1\" class=\"dataframe\">\n",
       "  <thead>\n",
       "    <tr style=\"text-align: right;\">\n",
       "      <th></th>\n",
       "      <th>Headline + Synop</th>\n",
       "      <th>Full_text</th>\n",
       "      <th>Final Status</th>\n",
       "      <th>text_processed</th>\n",
       "      <th>headsyntext_processed</th>\n",
       "    </tr>\n",
       "  </thead>\n",
       "  <tbody>\n",
       "    <tr>\n",
       "      <th>0</th>\n",
       "      <td>India Post Payments Bank introduces issuer cha...</td>\n",
       "      <td>Getty ImagesThe India Post Payments Bank (IPPB...</td>\n",
       "      <td>1</td>\n",
       "      <td>getty imagesthe india post payments bank ippb ...</td>\n",
       "      <td>india post payments bank introduces issuer cha...</td>\n",
       "    </tr>\n",
       "    <tr>\n",
       "      <th>1</th>\n",
       "      <td>RBI directs banks to offer cardless cash withd...</td>\n",
       "      <td>Getty ImagesThe Reserve Bank of India (RBI) ha...</td>\n",
       "      <td>1</td>\n",
       "      <td>getty imagesthe reserve bank india rbi asked b...</td>\n",
       "      <td>rbi directs banks offer cardless cash withdraw...</td>\n",
       "    </tr>\n",
       "    <tr>\n",
       "      <th>2</th>\n",
       "      <td>Mahindra to explore more partnerships for EV p...</td>\n",
       "      <td>ReutersDavos: India's Mahindra and Mahindra wi...</td>\n",
       "      <td>1</td>\n",
       "      <td>reutersdavos indias mahindra mahindra explore ...</td>\n",
       "      <td>mahindra explore partnerships ev parts ceo ani...</td>\n",
       "    </tr>\n",
       "    <tr>\n",
       "      <th>3</th>\n",
       "      <td>Elon Musk bags $7.1 billion in new financing f...</td>\n",
       "      <td>Elon Musk has secured about $7.1 billion of ne...</td>\n",
       "      <td>1</td>\n",
       "      <td>elon musk secured billion new financing commit...</td>\n",
       "      <td>elon musk bags billion new financing twitter o...</td>\n",
       "    </tr>\n",
       "    <tr>\n",
       "      <th>4</th>\n",
       "      <td>Hexagon freezes Russian business, books charge...</td>\n",
       "      <td>ETtechStockholm: Measurement technology group ...</td>\n",
       "      <td>0</td>\n",
       "      <td>ettechstockholm measurement technology group h...</td>\n",
       "      <td>hexagon freezes russian business books charge ...</td>\n",
       "    </tr>\n",
       "  </tbody>\n",
       "</table>\n",
       "</div>"
      ],
      "text/plain": [
       "                                    Headline + Synop  \\\n",
       "0  India Post Payments Bank introduces issuer cha...   \n",
       "1  RBI directs banks to offer cardless cash withd...   \n",
       "2  Mahindra to explore more partnerships for EV p...   \n",
       "3  Elon Musk bags $7.1 billion in new financing f...   \n",
       "4  Hexagon freezes Russian business, books charge...   \n",
       "\n",
       "                                           Full_text  Final Status  \\\n",
       "0  Getty ImagesThe India Post Payments Bank (IPPB...             1   \n",
       "1  Getty ImagesThe Reserve Bank of India (RBI) ha...             1   \n",
       "2  ReutersDavos: India's Mahindra and Mahindra wi...             1   \n",
       "3  Elon Musk has secured about $7.1 billion of ne...             1   \n",
       "4  ETtechStockholm: Measurement technology group ...             0   \n",
       "\n",
       "                                      text_processed  \\\n",
       "0  getty imagesthe india post payments bank ippb ...   \n",
       "1  getty imagesthe reserve bank india rbi asked b...   \n",
       "2  reutersdavos indias mahindra mahindra explore ...   \n",
       "3  elon musk secured billion new financing commit...   \n",
       "4  ettechstockholm measurement technology group h...   \n",
       "\n",
       "                               headsyntext_processed  \n",
       "0  india post payments bank introduces issuer cha...  \n",
       "1  rbi directs banks offer cardless cash withdraw...  \n",
       "2  mahindra explore partnerships ev parts ceo ani...  \n",
       "3  elon musk bags billion new financing twitter o...  \n",
       "4  hexagon freezes russian business books charge ...  "
      ]
     },
     "execution_count": 1111,
     "metadata": {},
     "output_type": "execute_result"
    }
   ],
   "source": [
    "df.head()"
   ]
  },
  {
   "cell_type": "code",
   "execution_count": 1112,
   "id": "99764c9b",
   "metadata": {},
   "outputs": [],
   "source": [
    "nfd = df.drop(\"Full_text\",axis = 1)"
   ]
  },
  {
   "cell_type": "code",
   "execution_count": 1113,
   "id": "ec0a77a3",
   "metadata": {},
   "outputs": [],
   "source": [
    "from sklearn.model_selection import train_test_split\n",
    "\n",
    "X = nfd['text_processed']\n",
    "y = nfd['Final Status']\n",
    "\n",
    "X_train, X_test, y_train, y_test = train_test_split(X, y,test_size=testsize, random_state=42)"
   ]
  },
  {
   "cell_type": "code",
   "execution_count": 1114,
   "id": "945a63d0",
   "metadata": {},
   "outputs": [],
   "source": [
    "from sklearn.pipeline import Pipeline\n",
    "from sklearn.feature_extraction.text import TfidfVectorizer\n",
    "from sklearn.naive_bayes import MultinomialNB\n",
    "from sklearn.linear_model import LogisticRegression\n",
    "\n",
    "# Naïve Bayes:\n",
    "text_clf_nb = Pipeline([('tfidf', TfidfVectorizer()),\n",
    "                     ('clf', MultinomialNB()),\n",
    "])\n",
    "\n",
    "\n",
    "\n",
    "#Decision Tree \n",
    "text_clf_DT = Pipeline([('tfidf', TfidfVectorizer()),\n",
    "                     ('clf', DecisionTreeClassifier(max_depth = 3)),\n",
    "])"
   ]
  },
  {
   "cell_type": "code",
   "execution_count": 1115,
   "id": "f925868a",
   "metadata": {},
   "outputs": [
    {
     "data": {
      "text/html": [
       "<style>#sk-container-id-120 {color: black;background-color: white;}#sk-container-id-120 pre{padding: 0;}#sk-container-id-120 div.sk-toggleable {background-color: white;}#sk-container-id-120 label.sk-toggleable__label {cursor: pointer;display: block;width: 100%;margin-bottom: 0;padding: 0.3em;box-sizing: border-box;text-align: center;}#sk-container-id-120 label.sk-toggleable__label-arrow:before {content: \"▸\";float: left;margin-right: 0.25em;color: #696969;}#sk-container-id-120 label.sk-toggleable__label-arrow:hover:before {color: black;}#sk-container-id-120 div.sk-estimator:hover label.sk-toggleable__label-arrow:before {color: black;}#sk-container-id-120 div.sk-toggleable__content {max-height: 0;max-width: 0;overflow: hidden;text-align: left;background-color: #f0f8ff;}#sk-container-id-120 div.sk-toggleable__content pre {margin: 0.2em;color: black;border-radius: 0.25em;background-color: #f0f8ff;}#sk-container-id-120 input.sk-toggleable__control:checked~div.sk-toggleable__content {max-height: 200px;max-width: 100%;overflow: auto;}#sk-container-id-120 input.sk-toggleable__control:checked~label.sk-toggleable__label-arrow:before {content: \"▾\";}#sk-container-id-120 div.sk-estimator input.sk-toggleable__control:checked~label.sk-toggleable__label {background-color: #d4ebff;}#sk-container-id-120 div.sk-label input.sk-toggleable__control:checked~label.sk-toggleable__label {background-color: #d4ebff;}#sk-container-id-120 input.sk-hidden--visually {border: 0;clip: rect(1px 1px 1px 1px);clip: rect(1px, 1px, 1px, 1px);height: 1px;margin: -1px;overflow: hidden;padding: 0;position: absolute;width: 1px;}#sk-container-id-120 div.sk-estimator {font-family: monospace;background-color: #f0f8ff;border: 1px dotted black;border-radius: 0.25em;box-sizing: border-box;margin-bottom: 0.5em;}#sk-container-id-120 div.sk-estimator:hover {background-color: #d4ebff;}#sk-container-id-120 div.sk-parallel-item::after {content: \"\";width: 100%;border-bottom: 1px solid gray;flex-grow: 1;}#sk-container-id-120 div.sk-label:hover label.sk-toggleable__label {background-color: #d4ebff;}#sk-container-id-120 div.sk-serial::before {content: \"\";position: absolute;border-left: 1px solid gray;box-sizing: border-box;top: 0;bottom: 0;left: 50%;z-index: 0;}#sk-container-id-120 div.sk-serial {display: flex;flex-direction: column;align-items: center;background-color: white;padding-right: 0.2em;padding-left: 0.2em;position: relative;}#sk-container-id-120 div.sk-item {position: relative;z-index: 1;}#sk-container-id-120 div.sk-parallel {display: flex;align-items: stretch;justify-content: center;background-color: white;position: relative;}#sk-container-id-120 div.sk-item::before, #sk-container-id-120 div.sk-parallel-item::before {content: \"\";position: absolute;border-left: 1px solid gray;box-sizing: border-box;top: 0;bottom: 0;left: 50%;z-index: -1;}#sk-container-id-120 div.sk-parallel-item {display: flex;flex-direction: column;z-index: 1;position: relative;background-color: white;}#sk-container-id-120 div.sk-parallel-item:first-child::after {align-self: flex-end;width: 50%;}#sk-container-id-120 div.sk-parallel-item:last-child::after {align-self: flex-start;width: 50%;}#sk-container-id-120 div.sk-parallel-item:only-child::after {width: 0;}#sk-container-id-120 div.sk-dashed-wrapped {border: 1px dashed gray;margin: 0 0.4em 0.5em 0.4em;box-sizing: border-box;padding-bottom: 0.4em;background-color: white;}#sk-container-id-120 div.sk-label label {font-family: monospace;font-weight: bold;display: inline-block;line-height: 1.2em;}#sk-container-id-120 div.sk-label-container {text-align: center;}#sk-container-id-120 div.sk-container {/* jupyter's `normalize.less` sets `[hidden] { display: none; }` but bootstrap.min.css set `[hidden] { display: none !important; }` so we also need the `!important` here to be able to override the default hidden behavior on the sphinx rendered scikit-learn.org. See: https://github.com/scikit-learn/scikit-learn/issues/21755 */display: inline-block !important;position: relative;}#sk-container-id-120 div.sk-text-repr-fallback {display: none;}</style><div id=\"sk-container-id-120\" class=\"sk-top-container\"><div class=\"sk-text-repr-fallback\"><pre>Pipeline(steps=[(&#x27;tfidf&#x27;, TfidfVectorizer()), (&#x27;clf&#x27;, MultinomialNB())])</pre><b>In a Jupyter environment, please rerun this cell to show the HTML representation or trust the notebook. <br />On GitHub, the HTML representation is unable to render, please try loading this page with nbviewer.org.</b></div><div class=\"sk-container\" hidden><div class=\"sk-item sk-dashed-wrapped\"><div class=\"sk-label-container\"><div class=\"sk-label sk-toggleable\"><input class=\"sk-toggleable__control sk-hidden--visually\" id=\"sk-estimator-id-358\" type=\"checkbox\" ><label for=\"sk-estimator-id-358\" class=\"sk-toggleable__label sk-toggleable__label-arrow\">Pipeline</label><div class=\"sk-toggleable__content\"><pre>Pipeline(steps=[(&#x27;tfidf&#x27;, TfidfVectorizer()), (&#x27;clf&#x27;, MultinomialNB())])</pre></div></div></div><div class=\"sk-serial\"><div class=\"sk-item\"><div class=\"sk-estimator sk-toggleable\"><input class=\"sk-toggleable__control sk-hidden--visually\" id=\"sk-estimator-id-359\" type=\"checkbox\" ><label for=\"sk-estimator-id-359\" class=\"sk-toggleable__label sk-toggleable__label-arrow\">TfidfVectorizer</label><div class=\"sk-toggleable__content\"><pre>TfidfVectorizer()</pre></div></div></div><div class=\"sk-item\"><div class=\"sk-estimator sk-toggleable\"><input class=\"sk-toggleable__control sk-hidden--visually\" id=\"sk-estimator-id-360\" type=\"checkbox\" ><label for=\"sk-estimator-id-360\" class=\"sk-toggleable__label sk-toggleable__label-arrow\">MultinomialNB</label><div class=\"sk-toggleable__content\"><pre>MultinomialNB()</pre></div></div></div></div></div></div></div>"
      ],
      "text/plain": [
       "Pipeline(steps=[('tfidf', TfidfVectorizer()), ('clf', MultinomialNB())])"
      ]
     },
     "execution_count": 1115,
     "metadata": {},
     "output_type": "execute_result"
    }
   ],
   "source": [
    "text_clf_nb.fit(X_train, y_train)"
   ]
  },
  {
   "cell_type": "code",
   "execution_count": 1116,
   "id": "1f69f556",
   "metadata": {},
   "outputs": [],
   "source": [
    "# Form a prediction set\n",
    "predictions = text_clf_nb.predict(X_test)"
   ]
  },
  {
   "cell_type": "code",
   "execution_count": 1117,
   "id": "2c75a585",
   "metadata": {},
   "outputs": [
    {
     "name": "stdout",
     "output_type": "stream",
     "text": [
      "[[ 1 38]\n",
      " [ 0 41]]\n"
     ]
    }
   ],
   "source": [
    "# Report the confusion matrix\n",
    "from sklearn import metrics\n",
    "print(metrics.confusion_matrix(y_test,predictions))"
   ]
  },
  {
   "cell_type": "code",
   "execution_count": 1118,
   "id": "c981184c",
   "metadata": {},
   "outputs": [
    {
     "name": "stdout",
     "output_type": "stream",
     "text": [
      "Naive Bayes:\n",
      "\n",
      "\n",
      "              precision    recall  f1-score   support\n",
      "\n",
      "           0       1.00      0.03      0.05        39\n",
      "           1       0.52      1.00      0.68        41\n",
      "\n",
      "    accuracy                           0.53        80\n",
      "   macro avg       0.76      0.51      0.37        80\n",
      "weighted avg       0.75      0.53      0.37        80\n",
      "\n"
     ]
    }
   ],
   "source": [
    "# Print a classification report\n",
    "print(\"Naive Bayes:\")\n",
    "print(\"\\n\")\n",
    "print(metrics.classification_report(y_test,predictions))"
   ]
  },
  {
   "cell_type": "code",
   "execution_count": 1119,
   "id": "a033b880",
   "metadata": {},
   "outputs": [
    {
     "data": {
      "text/html": [
       "<style>#sk-container-id-121 {color: black;background-color: white;}#sk-container-id-121 pre{padding: 0;}#sk-container-id-121 div.sk-toggleable {background-color: white;}#sk-container-id-121 label.sk-toggleable__label {cursor: pointer;display: block;width: 100%;margin-bottom: 0;padding: 0.3em;box-sizing: border-box;text-align: center;}#sk-container-id-121 label.sk-toggleable__label-arrow:before {content: \"▸\";float: left;margin-right: 0.25em;color: #696969;}#sk-container-id-121 label.sk-toggleable__label-arrow:hover:before {color: black;}#sk-container-id-121 div.sk-estimator:hover label.sk-toggleable__label-arrow:before {color: black;}#sk-container-id-121 div.sk-toggleable__content {max-height: 0;max-width: 0;overflow: hidden;text-align: left;background-color: #f0f8ff;}#sk-container-id-121 div.sk-toggleable__content pre {margin: 0.2em;color: black;border-radius: 0.25em;background-color: #f0f8ff;}#sk-container-id-121 input.sk-toggleable__control:checked~div.sk-toggleable__content {max-height: 200px;max-width: 100%;overflow: auto;}#sk-container-id-121 input.sk-toggleable__control:checked~label.sk-toggleable__label-arrow:before {content: \"▾\";}#sk-container-id-121 div.sk-estimator input.sk-toggleable__control:checked~label.sk-toggleable__label {background-color: #d4ebff;}#sk-container-id-121 div.sk-label input.sk-toggleable__control:checked~label.sk-toggleable__label {background-color: #d4ebff;}#sk-container-id-121 input.sk-hidden--visually {border: 0;clip: rect(1px 1px 1px 1px);clip: rect(1px, 1px, 1px, 1px);height: 1px;margin: -1px;overflow: hidden;padding: 0;position: absolute;width: 1px;}#sk-container-id-121 div.sk-estimator {font-family: monospace;background-color: #f0f8ff;border: 1px dotted black;border-radius: 0.25em;box-sizing: border-box;margin-bottom: 0.5em;}#sk-container-id-121 div.sk-estimator:hover {background-color: #d4ebff;}#sk-container-id-121 div.sk-parallel-item::after {content: \"\";width: 100%;border-bottom: 1px solid gray;flex-grow: 1;}#sk-container-id-121 div.sk-label:hover label.sk-toggleable__label {background-color: #d4ebff;}#sk-container-id-121 div.sk-serial::before {content: \"\";position: absolute;border-left: 1px solid gray;box-sizing: border-box;top: 0;bottom: 0;left: 50%;z-index: 0;}#sk-container-id-121 div.sk-serial {display: flex;flex-direction: column;align-items: center;background-color: white;padding-right: 0.2em;padding-left: 0.2em;position: relative;}#sk-container-id-121 div.sk-item {position: relative;z-index: 1;}#sk-container-id-121 div.sk-parallel {display: flex;align-items: stretch;justify-content: center;background-color: white;position: relative;}#sk-container-id-121 div.sk-item::before, #sk-container-id-121 div.sk-parallel-item::before {content: \"\";position: absolute;border-left: 1px solid gray;box-sizing: border-box;top: 0;bottom: 0;left: 50%;z-index: -1;}#sk-container-id-121 div.sk-parallel-item {display: flex;flex-direction: column;z-index: 1;position: relative;background-color: white;}#sk-container-id-121 div.sk-parallel-item:first-child::after {align-self: flex-end;width: 50%;}#sk-container-id-121 div.sk-parallel-item:last-child::after {align-self: flex-start;width: 50%;}#sk-container-id-121 div.sk-parallel-item:only-child::after {width: 0;}#sk-container-id-121 div.sk-dashed-wrapped {border: 1px dashed gray;margin: 0 0.4em 0.5em 0.4em;box-sizing: border-box;padding-bottom: 0.4em;background-color: white;}#sk-container-id-121 div.sk-label label {font-family: monospace;font-weight: bold;display: inline-block;line-height: 1.2em;}#sk-container-id-121 div.sk-label-container {text-align: center;}#sk-container-id-121 div.sk-container {/* jupyter's `normalize.less` sets `[hidden] { display: none; }` but bootstrap.min.css set `[hidden] { display: none !important; }` so we also need the `!important` here to be able to override the default hidden behavior on the sphinx rendered scikit-learn.org. See: https://github.com/scikit-learn/scikit-learn/issues/21755 */display: inline-block !important;position: relative;}#sk-container-id-121 div.sk-text-repr-fallback {display: none;}</style><div id=\"sk-container-id-121\" class=\"sk-top-container\"><div class=\"sk-text-repr-fallback\"><pre>Pipeline(steps=[(&#x27;tfidf&#x27;, TfidfVectorizer()),\n",
       "                (&#x27;clf&#x27;, DecisionTreeClassifier(max_depth=3))])</pre><b>In a Jupyter environment, please rerun this cell to show the HTML representation or trust the notebook. <br />On GitHub, the HTML representation is unable to render, please try loading this page with nbviewer.org.</b></div><div class=\"sk-container\" hidden><div class=\"sk-item sk-dashed-wrapped\"><div class=\"sk-label-container\"><div class=\"sk-label sk-toggleable\"><input class=\"sk-toggleable__control sk-hidden--visually\" id=\"sk-estimator-id-361\" type=\"checkbox\" ><label for=\"sk-estimator-id-361\" class=\"sk-toggleable__label sk-toggleable__label-arrow\">Pipeline</label><div class=\"sk-toggleable__content\"><pre>Pipeline(steps=[(&#x27;tfidf&#x27;, TfidfVectorizer()),\n",
       "                (&#x27;clf&#x27;, DecisionTreeClassifier(max_depth=3))])</pre></div></div></div><div class=\"sk-serial\"><div class=\"sk-item\"><div class=\"sk-estimator sk-toggleable\"><input class=\"sk-toggleable__control sk-hidden--visually\" id=\"sk-estimator-id-362\" type=\"checkbox\" ><label for=\"sk-estimator-id-362\" class=\"sk-toggleable__label sk-toggleable__label-arrow\">TfidfVectorizer</label><div class=\"sk-toggleable__content\"><pre>TfidfVectorizer()</pre></div></div></div><div class=\"sk-item\"><div class=\"sk-estimator sk-toggleable\"><input class=\"sk-toggleable__control sk-hidden--visually\" id=\"sk-estimator-id-363\" type=\"checkbox\" ><label for=\"sk-estimator-id-363\" class=\"sk-toggleable__label sk-toggleable__label-arrow\">DecisionTreeClassifier</label><div class=\"sk-toggleable__content\"><pre>DecisionTreeClassifier(max_depth=3)</pre></div></div></div></div></div></div></div>"
      ],
      "text/plain": [
       "Pipeline(steps=[('tfidf', TfidfVectorizer()),\n",
       "                ('clf', DecisionTreeClassifier(max_depth=3))])"
      ]
     },
     "execution_count": 1119,
     "metadata": {},
     "output_type": "execute_result"
    }
   ],
   "source": [
    "text_clf_DT.fit(X_train, y_train)"
   ]
  },
  {
   "cell_type": "code",
   "execution_count": 1120,
   "id": "910833f6",
   "metadata": {},
   "outputs": [
    {
     "data": {
      "text/plain": [
       "0.76875"
      ]
     },
     "execution_count": 1120,
     "metadata": {},
     "output_type": "execute_result"
    }
   ],
   "source": [
    "text_clf_DT.score(X_train, y_train)"
   ]
  },
  {
   "cell_type": "code",
   "execution_count": 1121,
   "id": "b90de30b",
   "metadata": {},
   "outputs": [
    {
     "data": {
      "text/plain": [
       "0.675"
      ]
     },
     "execution_count": 1121,
     "metadata": {},
     "output_type": "execute_result"
    }
   ],
   "source": [
    "text_clf_DT.score(X_test, y_test)"
   ]
  },
  {
   "cell_type": "code",
   "execution_count": 1122,
   "id": "1b8c645a",
   "metadata": {},
   "outputs": [],
   "source": [
    "# Form a prediction set\n",
    "predictions = text_clf_DT.predict(X_test)"
   ]
  },
  {
   "cell_type": "code",
   "execution_count": 1123,
   "id": "928abcf5",
   "metadata": {},
   "outputs": [
    {
     "name": "stdout",
     "output_type": "stream",
     "text": [
      "Decision Tree:\n",
      "\n",
      "\n",
      "              precision    recall  f1-score   support\n",
      "\n",
      "           0       1.00      0.33      0.50        39\n",
      "           1       0.61      1.00      0.76        41\n",
      "\n",
      "    accuracy                           0.68        80\n",
      "   macro avg       0.81      0.67      0.63        80\n",
      "weighted avg       0.80      0.68      0.63        80\n",
      "\n"
     ]
    }
   ],
   "source": [
    "# Print a classification report\n",
    "print(\"Decision Tree:\")\n",
    "print(\"\\n\")\n",
    "print(metrics.classification_report(y_test,predictions))"
   ]
  },
  {
   "cell_type": "code",
   "execution_count": 1124,
   "id": "7f0a4ff4",
   "metadata": {},
   "outputs": [],
   "source": [
    "text_clf_rf = Pipeline([('tfidf', TfidfVectorizer()),\n",
    "                     ('clf', RandomForestClassifier(max_depth = 5)),\n",
    "])"
   ]
  },
  {
   "cell_type": "code",
   "execution_count": 1125,
   "id": "d574d707",
   "metadata": {},
   "outputs": [
    {
     "data": {
      "text/html": [
       "<style>#sk-container-id-122 {color: black;background-color: white;}#sk-container-id-122 pre{padding: 0;}#sk-container-id-122 div.sk-toggleable {background-color: white;}#sk-container-id-122 label.sk-toggleable__label {cursor: pointer;display: block;width: 100%;margin-bottom: 0;padding: 0.3em;box-sizing: border-box;text-align: center;}#sk-container-id-122 label.sk-toggleable__label-arrow:before {content: \"▸\";float: left;margin-right: 0.25em;color: #696969;}#sk-container-id-122 label.sk-toggleable__label-arrow:hover:before {color: black;}#sk-container-id-122 div.sk-estimator:hover label.sk-toggleable__label-arrow:before {color: black;}#sk-container-id-122 div.sk-toggleable__content {max-height: 0;max-width: 0;overflow: hidden;text-align: left;background-color: #f0f8ff;}#sk-container-id-122 div.sk-toggleable__content pre {margin: 0.2em;color: black;border-radius: 0.25em;background-color: #f0f8ff;}#sk-container-id-122 input.sk-toggleable__control:checked~div.sk-toggleable__content {max-height: 200px;max-width: 100%;overflow: auto;}#sk-container-id-122 input.sk-toggleable__control:checked~label.sk-toggleable__label-arrow:before {content: \"▾\";}#sk-container-id-122 div.sk-estimator input.sk-toggleable__control:checked~label.sk-toggleable__label {background-color: #d4ebff;}#sk-container-id-122 div.sk-label input.sk-toggleable__control:checked~label.sk-toggleable__label {background-color: #d4ebff;}#sk-container-id-122 input.sk-hidden--visually {border: 0;clip: rect(1px 1px 1px 1px);clip: rect(1px, 1px, 1px, 1px);height: 1px;margin: -1px;overflow: hidden;padding: 0;position: absolute;width: 1px;}#sk-container-id-122 div.sk-estimator {font-family: monospace;background-color: #f0f8ff;border: 1px dotted black;border-radius: 0.25em;box-sizing: border-box;margin-bottom: 0.5em;}#sk-container-id-122 div.sk-estimator:hover {background-color: #d4ebff;}#sk-container-id-122 div.sk-parallel-item::after {content: \"\";width: 100%;border-bottom: 1px solid gray;flex-grow: 1;}#sk-container-id-122 div.sk-label:hover label.sk-toggleable__label {background-color: #d4ebff;}#sk-container-id-122 div.sk-serial::before {content: \"\";position: absolute;border-left: 1px solid gray;box-sizing: border-box;top: 0;bottom: 0;left: 50%;z-index: 0;}#sk-container-id-122 div.sk-serial {display: flex;flex-direction: column;align-items: center;background-color: white;padding-right: 0.2em;padding-left: 0.2em;position: relative;}#sk-container-id-122 div.sk-item {position: relative;z-index: 1;}#sk-container-id-122 div.sk-parallel {display: flex;align-items: stretch;justify-content: center;background-color: white;position: relative;}#sk-container-id-122 div.sk-item::before, #sk-container-id-122 div.sk-parallel-item::before {content: \"\";position: absolute;border-left: 1px solid gray;box-sizing: border-box;top: 0;bottom: 0;left: 50%;z-index: -1;}#sk-container-id-122 div.sk-parallel-item {display: flex;flex-direction: column;z-index: 1;position: relative;background-color: white;}#sk-container-id-122 div.sk-parallel-item:first-child::after {align-self: flex-end;width: 50%;}#sk-container-id-122 div.sk-parallel-item:last-child::after {align-self: flex-start;width: 50%;}#sk-container-id-122 div.sk-parallel-item:only-child::after {width: 0;}#sk-container-id-122 div.sk-dashed-wrapped {border: 1px dashed gray;margin: 0 0.4em 0.5em 0.4em;box-sizing: border-box;padding-bottom: 0.4em;background-color: white;}#sk-container-id-122 div.sk-label label {font-family: monospace;font-weight: bold;display: inline-block;line-height: 1.2em;}#sk-container-id-122 div.sk-label-container {text-align: center;}#sk-container-id-122 div.sk-container {/* jupyter's `normalize.less` sets `[hidden] { display: none; }` but bootstrap.min.css set `[hidden] { display: none !important; }` so we also need the `!important` here to be able to override the default hidden behavior on the sphinx rendered scikit-learn.org. See: https://github.com/scikit-learn/scikit-learn/issues/21755 */display: inline-block !important;position: relative;}#sk-container-id-122 div.sk-text-repr-fallback {display: none;}</style><div id=\"sk-container-id-122\" class=\"sk-top-container\"><div class=\"sk-text-repr-fallback\"><pre>Pipeline(steps=[(&#x27;tfidf&#x27;, TfidfVectorizer()),\n",
       "                (&#x27;clf&#x27;, RandomForestClassifier(max_depth=5))])</pre><b>In a Jupyter environment, please rerun this cell to show the HTML representation or trust the notebook. <br />On GitHub, the HTML representation is unable to render, please try loading this page with nbviewer.org.</b></div><div class=\"sk-container\" hidden><div class=\"sk-item sk-dashed-wrapped\"><div class=\"sk-label-container\"><div class=\"sk-label sk-toggleable\"><input class=\"sk-toggleable__control sk-hidden--visually\" id=\"sk-estimator-id-364\" type=\"checkbox\" ><label for=\"sk-estimator-id-364\" class=\"sk-toggleable__label sk-toggleable__label-arrow\">Pipeline</label><div class=\"sk-toggleable__content\"><pre>Pipeline(steps=[(&#x27;tfidf&#x27;, TfidfVectorizer()),\n",
       "                (&#x27;clf&#x27;, RandomForestClassifier(max_depth=5))])</pre></div></div></div><div class=\"sk-serial\"><div class=\"sk-item\"><div class=\"sk-estimator sk-toggleable\"><input class=\"sk-toggleable__control sk-hidden--visually\" id=\"sk-estimator-id-365\" type=\"checkbox\" ><label for=\"sk-estimator-id-365\" class=\"sk-toggleable__label sk-toggleable__label-arrow\">TfidfVectorizer</label><div class=\"sk-toggleable__content\"><pre>TfidfVectorizer()</pre></div></div></div><div class=\"sk-item\"><div class=\"sk-estimator sk-toggleable\"><input class=\"sk-toggleable__control sk-hidden--visually\" id=\"sk-estimator-id-366\" type=\"checkbox\" ><label for=\"sk-estimator-id-366\" class=\"sk-toggleable__label sk-toggleable__label-arrow\">RandomForestClassifier</label><div class=\"sk-toggleable__content\"><pre>RandomForestClassifier(max_depth=5)</pre></div></div></div></div></div></div></div>"
      ],
      "text/plain": [
       "Pipeline(steps=[('tfidf', TfidfVectorizer()),\n",
       "                ('clf', RandomForestClassifier(max_depth=5))])"
      ]
     },
     "execution_count": 1125,
     "metadata": {},
     "output_type": "execute_result"
    }
   ],
   "source": [
    "text_clf_rf.fit(X_train, y_train)"
   ]
  },
  {
   "cell_type": "code",
   "execution_count": 1126,
   "id": "57f73627",
   "metadata": {},
   "outputs": [
    {
     "data": {
      "text/plain": [
       "0.7375"
      ]
     },
     "execution_count": 1126,
     "metadata": {},
     "output_type": "execute_result"
    }
   ],
   "source": [
    "text_clf_rf.score(X_train, y_train)"
   ]
  },
  {
   "cell_type": "code",
   "execution_count": 1127,
   "id": "01f8800a",
   "metadata": {},
   "outputs": [
    {
     "data": {
      "text/plain": [
       "0.5375"
      ]
     },
     "execution_count": 1127,
     "metadata": {},
     "output_type": "execute_result"
    }
   ],
   "source": [
    "text_clf_rf.score(X_test, y_test)"
   ]
  },
  {
   "cell_type": "code",
   "execution_count": null,
   "id": "b10f998b",
   "metadata": {},
   "outputs": [],
   "source": []
  }
 ],
 "metadata": {
  "kernelspec": {
   "display_name": "Python 3 (ipykernel)",
   "language": "python",
   "name": "python3"
  },
  "language_info": {
   "codemirror_mode": {
    "name": "ipython",
    "version": 3
   },
   "file_extension": ".py",
   "mimetype": "text/x-python",
   "name": "python",
   "nbconvert_exporter": "python",
   "pygments_lexer": "ipython3",
   "version": "3.9.7"
  }
 },
 "nbformat": 4,
 "nbformat_minor": 5
}
